{
  "metadata": {
    "kernelspec": {
      "language": "python",
      "display_name": "Python 3",
      "name": "python3"
    },
    "language_info": {
      "pygments_lexer": "ipython3",
      "nbconvert_exporter": "python",
      "version": "3.6.4",
      "file_extension": ".py",
      "codemirror_mode": {
        "name": "ipython",
        "version": 3
      },
      "name": "python",
      "mimetype": "text/x-python"
    },
    "colab": {
      "provenance": [],
      "collapsed_sections": [
        "Eo1OcTPYg4bB",
        "1H6V2ZcKg4bB",
        "WYlD-Uk6g4bB",
        "r924813Ug4bC",
        "-wGTnlD1Y7_-",
        "XneyM9FzZELt",
        "fNMcNO8rZKKu",
        "DQRYzdATaRQh"
      ]
    }
  },
  "nbformat_minor": 0,
  "nbformat": 4,
  "cells": [
    {
      "cell_type": "markdown",
      "source": [
        "Имеется датасет, полученный в ходе исследования факторов, способных повлиять на депрессию людей, живущих в сельской местности. Задача модели ML --- научиться определять склонность к депрессии (0 --- не страдает, 1 --- страдает). Это типичная задача **бинарной классификации**. Hассмотрим одну из популярных моделей для этой задачи --- логистическую регрессию."
      ],
      "metadata": {
        "id": "DYy_orDNg4a4"
      }
    },
    {
      "cell_type": "markdown",
      "source": [
        "# Логистическая регрессия\n",
        "\n",
        "\n",
        "Так сложилось, что в задачах бинарной классификации мы большее значение придаём тому, чтобы научиться определять класс 1, нежели класс 0. Класс 1 представляет собой в каком-то смысле \"редкое\" событие: письмо со спамом, неплатёжеспособность клиента, наличие заболевания, склонность к депрессии. Будем называть его \"положительным\" классом, а класс 0 --- \"отрицательным\". Во многих ситуациях нам важнее знать **оценку вероятности** того, что объект попадёт в положительный класс (вероятность невозврата кредита, вероятность заболевания, вероятность склонности к депрессии). Тогда, задавая различные пороги для этой вероятности (в зависимости от задачи), мы будем таким образом разделять объекты.\n",
        "\n",
        "Обозначим вероятность положительного события через $P_+$. Очевидно, что вероятность противоположного класса тогда равна $(1-P_+)$. Составим величину, называемую odds ratio (\"отношение шансов\"):\n",
        "\n",
        "$$\n",
        "OR = \\frac{P_+}{1-P_+}.\n",
        "$$\n",
        "\n",
        "$OR$ показывает отношение вероятностей того, произойдёт наше событие или не произойдёт. При этом величины $P_+$ и $OR$ содержат, по сути, одинаковую информацию. Но если $P_+\\in(0; 1)$, то $OR\\in(0; +\\infty)$. Если теперь рассмотреть величину логарифма отношения шансов $\\log OR$, то мы придём к тому, что $\\log OR\\in(-\\infty; +\\infty)$. И вот мы получили, что можем прогнозировать **вероятность**, прогнозируя величину, лежащую от минус до плюс бесконечности! А эту величину можно предсказывать с помощью **регрессионной модели**. \n",
        "\n",
        "## Сигма-функция\n",
        "\n",
        "Пусть теперь мы прогнозируем $\\log OR$ с помощью линейной регрессии: $\\log OR=\\mathbf{w}^T\\mathbf{x}$. Как из этой величины получить $P_+$?\n",
        "\n",
        "$$\n",
        "P_+ = \\frac{OR}{1+OR} = \\frac{e^{\\log OR}}{1+e^{\\log OR}}=\\frac{e^{\\mathbf{w}^T\\mathbf{x}}}{1+e^{\\mathbf{w}^T\\mathbf{x}}}=\\frac{1}{1+e^{-\\mathbf{w}^T\\mathbf{x}}}.\n",
        "$$\n",
        "\n",
        "Интересно, что мы получили здесь довольно важную функцию в машинном обучении (нет, на этот раз не логарифм :)):\n",
        "\n",
        "$$\n",
        "\\sigma(z) = \\frac{1}{1+e^{-z}},\n",
        "$$\n",
        "\n",
        "называемую сигма-функцией, или сигмоидой, или **логистической функцией**. Она ведёт себя так:\n",
        "![](https://www.researchgate.net/profile/John_Davis82/publication/234049070/figure/fig6/AS:300093912698893@1448559372458/Logistic-sigmoid-function-Maps-real-numbers-to-the-interval-between-0-and-1.png)\n",
        "\n",
        "Итак, $P_+=\\sigma(\\mathbf{w}^T\\mathbf{x})$. Это важный результат.\n",
        "\n",
        "Тем самым, с помощью логистической регрессии мы будем прогнозировать **вероятность принадлежности объекта к классу 1**.\n",
        "\n",
        "## LogLoss, или логистическая функция потерь\n",
        "\n",
        "Следующий важный момент: **как считать ошибку модели в случае бинарной классификации**? Иными словами, как выбрать функцию потерь и составить функционал качества?\n",
        "\n",
        "Вновь вспомним принцип максимального правдоподобия. Только что мы получили, что\n",
        "\n",
        "$$\n",
        "P_+ = P(y=1 | \\mathbf{x}_i, \\mathbf{w}) = \\sigma(\\mathbf{w}^T\\mathbf{x}).\n",
        "$$\n",
        "\n",
        "Но тогда\n",
        "\n",
        "$$\n",
        "P_- = P(y=-1 | \\mathbf{x}_i, \\mathbf{w}) = 1 - P_+ = 1 - \\sigma(\\mathbf{w}^T\\mathbf{x}_i).\n",
        "$$\n",
        "\n",
        "Здесь мы обозначили класс \"0\" как \"-1\" для удобства выкладок. Далее можно заметить (проверьте!), что $1 - \\sigma(\\mathbf{w}^T\\mathbf{x}_i)=\\sigma(-\\mathbf{w}^T\\mathbf{x}_i)$: первое из поразительных свойств сигмоиды --- то ли ещё будет! Учитывая последнее, можно записать **общую формулу** для вероятности:\n",
        "\n",
        "$$\n",
        "P(y=y_i | \\mathbf{x}_i, \\mathbf{w}) = \\sigma(y_i\\mathbf{w}^T\\mathbf{x}_i).\n",
        "$$\n",
        "\n",
        "Тогда вероятность всей выборки (взятой независимо и из одного распределения) запишется как произведение вероятностей:\n",
        "\n",
        "$$\n",
        "P(\\mathbf{y}|\\mathbf{X}, \\mathbf{w}) = \\prod_{i=1}^{l} P(y=y_i | \\mathbf{x}_i, \\mathbf{w}).\n",
        "$$\n",
        "\n",
        "Это **функция правдоподобия выборки**. Её нужно максимизировать. Как обычно, вместо максимизации произведения множества слагаемых нам бы хотелось максимизировать сумму. Поэтому возьмём логарифм правдоподобия:\n",
        "\n",
        "$$\n",
        "\\begin{multline*}\n",
        "\\log P(\\mathbf{y}|\\mathbf{X}, \\mathbf{w}) = \\log \\prod_{i=1}^{l} P(y=y_i | \\mathbf{x}_i, \\mathbf{w}) = \n",
        "\\sum_{i=1}^{l} \\log P(y=y_i | \\mathbf{x}_i, \\mathbf{w}) = \\\\\n",
        "=\\sum_{i=1}^{l} \\log \\sigma(y_i\\mathbf{w}^T\\mathbf{x}_i) = \\sum_{i=1}^{l} \\log \\frac{1}{1+e^{-y_i\\mathbf{w}^T\\mathbf{x}_i}}=-\\sum_{i=1}^{l}\\log \\left(1+e^{-y_i\\mathbf{w}^T\\mathbf{x}_i}\\right) \\to \\max\\limits_\\mathbf{w},\n",
        "\\end{multline*}\n",
        "$$\n",
        "\n",
        "то есть максимизация прадоподобия эквивалентна минимизации функционала\n",
        "\n",
        "$$\n",
        "Q(\\mathbf{w}) = \\sum_{i=1}^{l}\\log \\left(1+e^{-y_i\\mathbf{w}^T\\mathbf{x}_i}\\right) \\to \\min\\limits_\\mathbf{w}.\n",
        "$$\n",
        "\n",
        "Последний функционал под знаком суммы содежит **логистическую функцию потерь**, или лог-лосс: $L_{log}(z)=\\log(1+e^{-z})$. Её график выглядит следующим образом:\n",
        "![](https://www.researchgate.net/profile/Thomas_Hofmann10/publication/2877976/figure/fig1/AS:650449568923660@1532090670890/Loss-values-of-0-1-exp-and-log-loss-functions-in-a-binary-classification-problem.png)\n",
        "\n",
        "и мажорирует обычную пороговую функцию потерь:\n",
        "$$\n",
        "L(y, \\widehat{y}) = \\begin{cases}0, & \\text{if } y=\\widehat{y}, \\\\ 1, & \\text{if } y\\neq\\widehat{y}. \\end{cases}\n",
        "$$\n",
        "\n",
        "Итак, мы только что показали, что, с точки зрения статистики и метода максимального правдоподобия, **оптимальным выбором функции потерь** для логистической регрессии является **лог-лосс**, или **логистическая функция потерь**. Минимизируя лог-лосс, мы тем самым уменьшаем число ошибок классификации.\n",
        "\n",
        "## Регуляризация логистической регрессии\n",
        "\n",
        "В моделях логистической регрессии, как и в линейной регрессии, используют разные типы **регуляризации** ($L_1$, $L_2$, Elastic Net) для уменьшения переобучения модели. Функционал качества в случае $L_2$-регуляризации выглядит так:\n",
        "\n",
        "$$\n",
        "Q_{reg}(\\mathbf{w}) = C\\cdot \\sum_{i=1}^{l}\\log \\left(1+e^{-y_i\\mathbf{w}^T\\mathbf{x}_i}\\right)+\\|\\mathbf{w}\\|^2 \\to \\min\\limits_\\mathbf{w}.\n",
        "$$\n",
        "\n",
        "Здесь гиперпараметр $C>0$ играет роль **обратной силы регуляризации**. Чем больше $C$, тем меньше \"штраф\" за увеличение весов модели. И наоборот, чем меньше $C$, тем эффект регуляризации больше."
      ],
      "metadata": {
        "id": "kyG1IzA5g4a5"
      }
    },
    {
      "cell_type": "markdown",
      "source": [
        "## Почему логистическая регрессия --- это линейный классификатор?\n",
        "\n",
        "Мы ещё не обсудили вопрос, почему же рассмотренная нами модель относится к **линейным моделям**. Для этого рассмотрим игрушечный пример с точками на плоскости."
      ],
      "metadata": {
        "id": "3f5mIEj9g4a7"
      }
    },
    {
      "cell_type": "code",
      "source": [
        "import pandas as pd\n",
        "import numpy as np\n",
        "np.random.seed(0)\n",
        "import matplotlib.pyplot as plt\n",
        "X = np.random.normal(loc=0.5, scale=0.25, size=(100, 2))\n",
        "y = (X[:, 1] > X[:, 0]).astype('int') # разделяющая граница: y=x (биссектриса первой четверти)\n",
        "plt.scatter(X[:, 0], X[:, 1], color=['red' if c==1 else 'blue' for c in y])\n",
        "plt.xlabel('x1')\n",
        "plt.ylabel('x2')\n",
        "plt.show()"
      ],
      "metadata": {
        "_uuid": "d629ff2d2480ee46fbb7e2d37f6b5fab8052498a",
        "_cell_guid": "79c7e3d0-c299-4dcb-8224-4455121ee9b0",
        "trusted": true,
        "id": "nd7TYWUCg4a8",
        "colab": {
          "base_uri": "https://localhost:8080/",
          "height": 279
        },
        "outputId": "177ff2a9-2d5c-406d-f368-4652f7b589a0"
      },
      "execution_count": null,
      "outputs": [
        {
          "output_type": "display_data",
          "data": {
            "text/plain": [
              "<Figure size 432x288 with 1 Axes>"
            ],
            "image/png": "[encoded data removed]"
          },
          "metadata": {
            "needs_background": "light"
          }
        }
      ]
    },
    {
      "cell_type": "code",
      "source": [
        "from sklearn.linear_model import LogisticRegression\n",
        "log_reg = LogisticRegression()\n",
        "log_reg.fit(X, y)\n",
        "\n",
        "w = log_reg.coef_\n",
        "bb = log_reg.intercept_\n",
        "\n",
        "print(w, bb)"
      ],
      "metadata": {
        "trusted": true,
        "id": "CxYUyQIzg4a8",
        "colab": {
          "base_uri": "https://localhost:8080/"
        },
        "outputId": "04e2c9e1-76e9-4f63-944d-ff4585f540ed"
      },
      "execution_count": null,
      "outputs": [
        {
          "output_type": "stream",
          "name": "stdout",
          "text": [
            "[[-3.29153106  3.02599673]] [0.23181665]\n"
          ]
        }
      ]
    },
    {
      "cell_type": "markdown",
      "source": [
        "Построим разделяющую границу между классами, которую \"выучила\" наша модель. Для этого запишем уравнение\n",
        "$$\n",
        "w_1\\cdot x_1 + w_2\\cdot x_2 + b = 0\n",
        "$$\n",
        "и выразим из него $x_2$ для более привычного построения графика:\n",
        "$$\n",
        "x_2 = -\\frac{w_1}{w_2}x_1-\\frac{b}{w_2}.\n",
        "$$"
      ],
      "metadata": {
        "id": "zqEDf2hhg4a8"
      }
    },
    {
      "cell_type": "code",
      "source": [
        "w1 = w[0][0]\n",
        "w2 = w[0][1]\n",
        "b = bb[0]\n",
        "\n",
        "print('w1 = '+str(w1), '\\nw2 = '+str(w2), '\\nb = '+str(b))"
      ],
      "metadata": {
        "trusted": true,
        "id": "lhJYWldZg4a8",
        "colab": {
          "base_uri": "https://localhost:8080/"
        },
        "outputId": "287e6a52-6060-4e44-d5e8-0f9d433bd4d8"
      },
      "execution_count": null,
      "outputs": [
        {
          "output_type": "stream",
          "name": "stdout",
          "text": [
            "w1 = -3.2915310634294572 \n",
            "w2 = 3.0259967314775613 \n",
            "b = 0.2318166472532856\n"
          ]
        }
      ]
    },
    {
      "cell_type": "code",
      "source": [
        "plt.scatter(X[:, 0], X[:, 1], color=['red' if c==1 else 'blue' for c in y])\n",
        "plt.plot(X[:, 0], -w1/w2*X[:, 0]-b/w2, color='green', linewidth=3, linestyle=\"dashed\")\n",
        "\n",
        "plt.xlabel('x1')\n",
        "plt.ylabel('x2')\n",
        "plt.show()"
      ],
      "metadata": {
        "trusted": true,
        "id": "GoS-TCkag4a9",
        "colab": {
          "base_uri": "https://localhost:8080/",
          "height": 279
        },
        "outputId": "ca02d8be-e4ab-484a-93c0-c8f64a5efd57"
      },
      "execution_count": null,
      "outputs": [
        {
          "output_type": "display_data",
          "data": {
            "text/plain": [
              "<Figure size 432x288 with 1 Axes>"
            ],
            "image/png": "[encoded data removed]"
          },
          "metadata": {
            "needs_background": "light"
          }
        }
      ]
    },
    {
      "cell_type": "markdown",
      "source": [
        "Итак, модель логистической регрессии почти идеально восстановила нашу разделяющую границу. А что будет, если разделяющая граница нелинейна?"
      ],
      "metadata": {
        "id": "fWNIduxag4a9"
      }
    },
    {
      "cell_type": "code",
      "source": [
        "yy = ((X[:, 0]-0.5)**2 + (X[:, 1]-0.5)**2 > 0.25**2).astype('int')\n",
        "plt.scatter(X[:, 0], X[:, 1], color=['red' if c==1 else 'blue' for c in yy])\n",
        "plt.xlabel('x1')\n",
        "plt.ylabel('x2')\n",
        "plt.show()"
      ],
      "metadata": {
        "trusted": true,
        "id": "zFz0zrgXg4a9",
        "colab": {
          "base_uri": "https://localhost:8080/",
          "height": 279
        },
        "outputId": "308c60c9-5d13-40b8-e859-d056b6e5a13c"
      },
      "execution_count": null,
      "outputs": [
        {
          "output_type": "display_data",
          "data": {
            "text/plain": [
              "<Figure size 432x288 with 1 Axes>"
            ],
            "image/png": "[encoded data removed]"
          },
          "metadata": {
            "needs_background": "light"
          }
        }
      ]
    },
    {
      "cell_type": "markdown",
      "source": [
        "Теперь посмотрим, что выучит наша модель."
      ],
      "metadata": {
        "id": "-ETJPaNug4a9"
      }
    },
    {
      "cell_type": "code",
      "source": [
        "log_reg = LogisticRegression()\n",
        "log_reg.fit(X, yy)\n",
        "\n",
        "w1 = log_reg.coef_[0][0]\n",
        "w2 = log_reg.coef_[0][1]\n",
        "b = log_reg.intercept_[0]\n",
        "\n",
        "plt.scatter(X[:, 0], X[:, 1], color=['red' if c==1 else 'blue' for c in yy])\n",
        "plt.plot(X[:, 0], -w1/w2*X[:, 0]-b/w2, color='green', linewidth=3, linestyle=\"dashed\")\n",
        "plt.xlabel('x1')\n",
        "plt.ylabel('x2')\n",
        "plt.show()"
      ],
      "metadata": {
        "trusted": true,
        "id": "G_2pzTf5g4a-",
        "colab": {
          "base_uri": "https://localhost:8080/",
          "height": 279
        },
        "outputId": "745f63f3-939e-42b5-870c-87f3021a990f"
      },
      "execution_count": null,
      "outputs": [
        {
          "output_type": "display_data",
          "data": {
            "text/plain": [
              "<Figure size 432x288 with 1 Axes>"
            ],
            "image/png": "[encoded data removed]"
          },
          "metadata": {
            "needs_background": "light"
          }
        }
      ]
    },
    {
      "cell_type": "markdown",
      "source": [
        "Как видим, несмотря на изменения в исходных данных, модель по-прежнему \"учит\" только линейную границу между классами, причём в данном случае далеко от идеала.\n",
        "\n",
        "Тем не менее, в многомерных пространствах картинка получается лучше, и даже линейный классификатор способен дать хороший результат. Кроме того, мы можем использовать приём, который называется **\"создание полиномиальных признаков\"**. Это означает, что, помимо $x_1, x_2, \\ldots, x_n$, модель также рассматривает их попарные произведения степени не выше $k$ (в случае $k=2$ это будут $x_1^2$, $x_1x_2$, $x_2^2$) в качестве признаков. Этот приём описан в [статье](https://habr.com/ru/company/ods/blog/323890/) OpenDataScience-сообщества (раздел 4). "
      ],
      "metadata": {
        "id": "lK-UN20cg4a-"
      }
    },
    {
      "cell_type": "markdown",
      "source": [
        "# Логистическая регрессия в действии"
      ],
      "metadata": {
        "id": "TXKRPTaXg4a-"
      }
    },
    {
      "cell_type": "markdown",
      "source": [
        "## Загрузка и препроцессинг"
      ],
      "metadata": {
        "id": "71NH0o-Zg4a-"
      }
    },
    {
      "cell_type": "code",
      "source": [
        "df = pd.read_csv('b_depressed.csv')\n",
        "df.head()"
      ],
      "metadata": {
        "trusted": true,
        "id": "pA59I_Kzg4a-",
        "colab": {
          "base_uri": "https://localhost:8080/",
          "height": 300
        },
        "outputId": "be9b2042-368c-470a-87b6-056a28bdeadc"
      },
      "execution_count": null,
      "outputs": [
        {
          "output_type": "execute_result",
          "data": {
            "text/plain": [
              "   Survey_id  Ville_id  sex  Age  Married  Number_children  education_level  \\\n",
              "0        926        91    1   28        1                4               10   \n",
              "1        747        57    1   23        1                3                8   \n",
              "2       1190       115    1   22        1                3                9   \n",
              "3       1065        97    1   27        1                2               10   \n",
              "4        806        42    0   59        0                4               10   \n",
              "\n",
              "   total_members  gained_asset  durable_asset  ...  incoming_salary  \\\n",
              "0              5      28912201       22861940  ...                0   \n",
              "1              5      28912201       22861940  ...                0   \n",
              "2              5      28912201       22861940  ...                0   \n",
              "3              4      52667108       19698904  ...                0   \n",
              "4              6      82606287       17352654  ...                1   \n",
              "\n",
              "   incoming_own_farm  incoming_business  incoming_no_business  \\\n",
              "0                  0                  0                     0   \n",
              "1                  0                  0                     0   \n",
              "2                  0                  0                     0   \n",
              "3                  1                  0                     1   \n",
              "4                  0                  0                     0   \n",
              "\n",
              "   incoming_agricultural  farm_expenses  labor_primary  lasting_investment  \\\n",
              "0               30028818       31363432              0            28411718   \n",
              "1               30028818       31363432              0            28411718   \n",
              "2               30028818       31363432              0            28411718   \n",
              "3               22288055       18751329              0             7781123   \n",
              "4               53384566       20731006              1            20100562   \n",
              "\n",
              "   no_lasting_investmen  depressed  \n",
              "0            28292707.0          0  \n",
              "1            28292707.0          1  \n",
              "2            28292707.0          0  \n",
              "3            69219765.0          0  \n",
              "4            43419447.0          0  \n",
              "\n",
              "[5 rows x 23 columns]"
            ],
            "text/html": [
              "\n",
              "  <div id=\"df-c05ec54b-f147-4cdc-a369-2ee6cd0cd419\">\n",
              "    <div class=\"colab-df-container\">\n",
              "      <div>\n",
              "<style scoped>\n",
              "    .dataframe tbody tr th:only-of-type {\n",
              "        vertical-align: middle;\n",
              "    }\n",
              "\n",
              "    .dataframe tbody tr th {\n",
              "        vertical-align: top;\n",
              "    }\n",
              "\n",
              "    .dataframe thead th {\n",
              "        text-align: right;\n",
              "    }\n",
              "</style>\n",
              "<table border=\"1\" class=\"dataframe\">\n",
              "  <thead>\n",
              "    <tr style=\"text-align: right;\">\n",
              "      <th></th>\n",
              "      <th>Survey_id</th>\n",
              "      <th>Ville_id</th>\n",
              "      <th>sex</th>\n",
              "      <th>Age</th>\n",
              "      <th>Married</th>\n",
              "      <th>Number_children</th>\n",
              "      <th>education_level</th>\n",
              "      <th>total_members</th>\n",
              "      <th>gained_asset</th>\n",
              "      <th>durable_asset</th>\n",
              "      <th>...</th>\n",
              "      <th>incoming_salary</th>\n",
              "      <th>incoming_own_farm</th>\n",
              "      <th>incoming_business</th>\n",
              "      <th>incoming_no_business</th>\n",
              "      <th>incoming_agricultural</th>\n",
              "      <th>farm_expenses</th>\n",
              "      <th>labor_primary</th>\n",
              "      <th>lasting_investment</th>\n",
              "      <th>no_lasting_investmen</th>\n",
              "      <th>depressed</th>\n",
              "    </tr>\n",
              "  </thead>\n",
              "  <tbody>\n",
              "    <tr>\n",
              "      <th>0</th>\n",
              "      <td>926</td>\n",
              "      <td>91</td>\n",
              "      <td>1</td>\n",
              "      <td>28</td>\n",
              "      <td>1</td>\n",
              "      <td>4</td>\n",
              "      <td>10</td>\n",
              "      <td>5</td>\n",
              "      <td>28912201</td>\n",
              "      <td>22861940</td>\n",
              "      <td>...</td>\n",
              "      <td>0</td>\n",
              "      <td>0</td>\n",
              "      <td>0</td>\n",
              "      <td>0</td>\n",
              "      <td>30028818</td>\n",
              "      <td>31363432</td>\n",
              "      <td>0</td>\n",
              "      <td>28411718</td>\n",
              "      <td>28292707.0</td>\n",
              "      <td>0</td>\n",
              "    </tr>\n",
              "    <tr>\n",
              "      <th>1</th>\n",
              "      <td>747</td>\n",
              "      <td>57</td>\n",
              "      <td>1</td>\n",
              "      <td>23</td>\n",
              "      <td>1</td>\n",
              "      <td>3</td>\n",
              "      <td>8</td>\n",
              "      <td>5</td>\n",
              "      <td>28912201</td>\n",
              "      <td>22861940</td>\n",
              "      <td>...</td>\n",
              "      <td>0</td>\n",
              "      <td>0</td>\n",
              "      <td>0</td>\n",
              "      <td>0</td>\n",
              "      <td>30028818</td>\n",
              "      <td>31363432</td>\n",
              "      <td>0</td>\n",
              "      <td>28411718</td>\n",
              "      <td>28292707.0</td>\n",
              "      <td>1</td>\n",
              "    </tr>\n",
              "    <tr>\n",
              "      <th>2</th>\n",
              "      <td>1190</td>\n",
              "      <td>115</td>\n",
              "      <td>1</td>\n",
              "      <td>22</td>\n",
              "      <td>1</td>\n",
              "      <td>3</td>\n",
              "      <td>9</td>\n",
              "      <td>5</td>\n",
              "      <td>28912201</td>\n",
              "      <td>22861940</td>\n",
              "      <td>...</td>\n",
              "      <td>0</td>\n",
              "      <td>0</td>\n",
              "      <td>0</td>\n",
              "      <td>0</td>\n",
              "      <td>30028818</td>\n",
              "      <td>31363432</td>\n",
              "      <td>0</td>\n",
              "      <td>28411718</td>\n",
              "      <td>28292707.0</td>\n",
              "      <td>0</td>\n",
              "    </tr>\n",
              "    <tr>\n",
              "      <th>3</th>\n",
              "      <td>1065</td>\n",
              "      <td>97</td>\n",
              "      <td>1</td>\n",
              "      <td>27</td>\n",
              "      <td>1</td>\n",
              "      <td>2</td>\n",
              "      <td>10</td>\n",
              "      <td>4</td>\n",
              "      <td>52667108</td>\n",
              "      <td>19698904</td>\n",
              "      <td>...</td>\n",
              "      <td>0</td>\n",
              "      <td>1</td>\n",
              "      <td>0</td>\n",
              "      <td>1</td>\n",
              "      <td>22288055</td>\n",
              "      <td>18751329</td>\n",
              "      <td>0</td>\n",
              "      <td>7781123</td>\n",
              "      <td>69219765.0</td>\n",
              "      <td>0</td>\n",
              "    </tr>\n",
              "    <tr>\n",
              "      <th>4</th>\n",
              "      <td>806</td>\n",
              "      <td>42</td>\n",
              "      <td>0</td>\n",
              "      <td>59</td>\n",
              "      <td>0</td>\n",
              "      <td>4</td>\n",
              "      <td>10</td>\n",
              "      <td>6</td>\n",
              "      <td>82606287</td>\n",
              "      <td>17352654</td>\n",
              "      <td>...</td>\n",
              "      <td>1</td>\n",
              "      <td>0</td>\n",
              "      <td>0</td>\n",
              "      <td>0</td>\n",
              "      <td>53384566</td>\n",
              "      <td>20731006</td>\n",
              "      <td>1</td>\n",
              "      <td>20100562</td>\n",
              "      <td>43419447.0</td>\n",
              "      <td>0</td>\n",
              "    </tr>\n",
              "  </tbody>\n",
              "</table>\n",
              "<p>5 rows × 23 columns</p>\n",
              "</div>\n",
              "      <button class=\"colab-df-convert\" onclick=\"convertToInteractive('df-c05ec54b-f147-4cdc-a369-2ee6cd0cd419')\"\n",
              "              title=\"Convert this dataframe to an interactive table.\"\n",
              "              style=\"display:none;\">\n",
              "        \n",
              "  <svg xmlns=\"http://www.w3.org/2000/svg\" height=\"24px\"viewBox=\"0 0 24 24\"\n",
              "       width=\"24px\">\n",
              "    <path d=\"M0 0h24v24H0V0z\" fill=\"none\"/>\n",
              "    <path d=\"M18.56 5.44l.94 2.06.94-2.06 2.06-.94-2.06-.94-.94-2.06-.94 2.06-2.06.94zm-11 1L8.5 8.5l.94-2.06 2.06-.94-2.06-.94L8.5 2.5l-.94 2.06-2.06.94zm10 10l.94 2.06.94-2.06 2.06-.94-2.06-.94-.94-2.06-.94 2.06-2.06.94z\"/><path d=\"M17.41 7.96l-1.37-1.37c-.4-.4-.92-.59-1.43-.59-.52 0-1.04.2-1.43.59L10.3 9.45l-7.72 7.72c-.78.78-.78 2.05 0 2.83L4 21.41c.39.39.9.59 1.41.59.51 0 1.02-.2 1.41-.59l7.78-7.78 2.81-2.81c.8-.78.8-2.07 0-2.86zM5.41 20L4 18.59l7.72-7.72 1.47 1.35L5.41 20z\"/>\n",
              "  </svg>\n",
              "      </button>\n",
              "      \n",
              "  <style>\n",
              "    .colab-df-container {\n",
              "      display:flex;\n",
              "      flex-wrap:wrap;\n",
              "      gap: 12px;\n",
              "    }\n",
              "\n",
              "    .colab-df-convert {\n",
              "      background-color: #E8F0FE;\n",
              "      border: none;\n",
              "      border-radius: 50%;\n",
              "      cursor: pointer;\n",
              "      display: none;\n",
              "      fill: #1967D2;\n",
              "      height: 32px;\n",
              "      padding: 0 0 0 0;\n",
              "      width: 32px;\n",
              "    }\n",
              "\n",
              "    .colab-df-convert:hover {\n",
              "      background-color: #E2EBFA;\n",
              "      box-shadow: 0px 1px 2px rgba(60, 64, 67, 0.3), 0px 1px 3px 1px rgba(60, 64, 67, 0.15);\n",
              "      fill: #174EA6;\n",
              "    }\n",
              "\n",
              "    [theme=dark] .colab-df-convert {\n",
              "      background-color: #3B4455;\n",
              "      fill: #D2E3FC;\n",
              "    }\n",
              "\n",
              "    [theme=dark] .colab-df-convert:hover {\n",
              "      background-color: #434B5C;\n",
              "      box-shadow: 0px 1px 3px 1px rgba(0, 0, 0, 0.15);\n",
              "      filter: drop-shadow(0px 1px 2px rgba(0, 0, 0, 0.3));\n",
              "      fill: #FFFFFF;\n",
              "    }\n",
              "  </style>\n",
              "\n",
              "      <script>\n",
              "        const buttonEl =\n",
              "          document.querySelector('#df-c05ec54b-f147-4cdc-a369-2ee6cd0cd419 button.colab-df-convert');\n",
              "        buttonEl.style.display =\n",
              "          google.colab.kernel.accessAllowed ? 'block' : 'none';\n",
              "\n",
              "        async function convertToInteractive(key) {\n",
              "          const element = document.querySelector('#df-c05ec54b-f147-4cdc-a369-2ee6cd0cd419');\n",
              "          const dataTable =\n",
              "            await google.colab.kernel.invokeFunction('convertToInteractive',\n",
              "                                                     [key], {});\n",
              "          if (!dataTable) return;\n",
              "\n",
              "          const docLinkHtml = 'Like what you see? Visit the ' +\n",
              "            '<a target=\"_blank\" href=https://colab.research.google.com/notebooks/data_table.ipynb>data table notebook</a>'\n",
              "            + ' to learn more about interactive tables.';\n",
              "          element.innerHTML = '';\n",
              "          dataTable['output_type'] = 'display_data';\n",
              "          await google.colab.output.renderOutput(dataTable, element);\n",
              "          const docLink = document.createElement('div');\n",
              "          docLink.innerHTML = docLinkHtml;\n",
              "          element.appendChild(docLink);\n",
              "        }\n",
              "      </script>\n",
              "    </div>\n",
              "  </div>\n",
              "  "
            ]
          },
          "metadata": {},
          "execution_count": 8
        }
      ]
    },
    {
      "cell_type": "code",
      "source": [
        "df.info()"
      ],
      "metadata": {
        "trusted": true,
        "id": "xOm32tLag4a-",
        "colab": {
          "base_uri": "https://localhost:8080/"
        },
        "outputId": "8f6ce36c-ada1-4906-a84d-fd5aac552cf4"
      },
      "execution_count": null,
      "outputs": [
        {
          "output_type": "stream",
          "name": "stdout",
          "text": [
            "<class 'pandas.core.frame.DataFrame'>\n",
            "RangeIndex: 1429 entries, 0 to 1428\n",
            "Data columns (total 23 columns):\n",
            " #   Column                 Non-Null Count  Dtype  \n",
            "---  ------                 --------------  -----  \n",
            " 0   Survey_id              1429 non-null   int64  \n",
            " 1   Ville_id               1429 non-null   int64  \n",
            " 2   sex                    1429 non-null   int64  \n",
            " 3   Age                    1429 non-null   int64  \n",
            " 4   Married                1429 non-null   int64  \n",
            " 5   Number_children        1429 non-null   int64  \n",
            " 6   education_level        1429 non-null   int64  \n",
            " 7   total_members          1429 non-null   int64  \n",
            " 8   gained_asset           1429 non-null   int64  \n",
            " 9   durable_asset          1429 non-null   int64  \n",
            " 10  save_asset             1429 non-null   int64  \n",
            " 11  living_expenses        1429 non-null   int64  \n",
            " 12  other_expenses         1429 non-null   int64  \n",
            " 13  incoming_salary        1429 non-null   int64  \n",
            " 14  incoming_own_farm      1429 non-null   int64  \n",
            " 15  incoming_business      1429 non-null   int64  \n",
            " 16  incoming_no_business   1429 non-null   int64  \n",
            " 17  incoming_agricultural  1429 non-null   int64  \n",
            " 18  farm_expenses          1429 non-null   int64  \n",
            " 19  labor_primary          1429 non-null   int64  \n",
            " 20  lasting_investment     1429 non-null   int64  \n",
            " 21  no_lasting_investmen   1409 non-null   float64\n",
            " 22  depressed              1429 non-null   int64  \n",
            "dtypes: float64(1), int64(22)\n",
            "memory usage: 256.9 KB\n"
          ]
        }
      ]
    },
    {
      "cell_type": "code",
      "source": [
        "df.nunique() #Подсчет количества различных элементов каждого столбца датасета"
      ],
      "metadata": {
        "trusted": true,
        "id": "fUBDUHwgg4a_",
        "colab": {
          "base_uri": "https://localhost:8080/"
        },
        "outputId": "974d8bca-d766-4501-ba0b-45064170a893"
      },
      "execution_count": null,
      "outputs": [
        {
          "output_type": "execute_result",
          "data": {
            "text/plain": [
              "Survey_id                1429\n",
              "Ville_id                  255\n",
              "sex                         2\n",
              "Age                        71\n",
              "Married                     2\n",
              "Number_children            12\n",
              "education_level            18\n",
              "total_members              12\n",
              "gained_asset              441\n",
              "durable_asset             590\n",
              "save_asset                268\n",
              "living_expenses           411\n",
              "other_expenses            615\n",
              "incoming_salary             2\n",
              "incoming_own_farm           2\n",
              "incoming_business           2\n",
              "incoming_no_business        2\n",
              "incoming_agricultural     330\n",
              "farm_expenses             694\n",
              "labor_primary               2\n",
              "lasting_investment        982\n",
              "no_lasting_investmen      939\n",
              "depressed                   2\n",
              "dtype: int64"
            ]
          },
          "metadata": {},
          "execution_count": 10
        }
      ]
    },
    {
      "cell_type": "markdown",
      "source": [
        "Все столбцы числовые, однако данные всё ещё не готовы к построению модели. Нам необходимо:\n",
        "* убрать пропуски (в столбце **no_lasting_investmen**);\n",
        "* убрать лишний признак **Survey_id** (номер опроса);\n",
        "* перевести категориальные признаки в бинарные (get_dummies);\n",
        "* стандартизировать признаки с неудобным масштабом."
      ],
      "metadata": {
        "id": "Hs08nXL8g4a_"
      }
    },
    {
      "cell_type": "code",
      "source": [
        "# Удалим пропуски\n",
        "df_1 = df.dropna()\n",
        "\n",
        "# Дропнем ненужные столбцы\n",
        "df_2 = df_1.drop(['Survey_id', 'depressed'], axis=1)\n",
        "\n",
        "# Переведём признаки \"Номер виллы\" и \"Уровень образования\" в бинарные \n",
        "# * мы не уверены на 100 %, что уровень образования ранговый, поэтому считаем его категориальным\n",
        "df_3 = pd.get_dummies(df_2, columns=['Ville_id', 'education_level'])\n",
        "\n",
        "# Масштабирование\n",
        "col_names = df.columns.values # это имена всех столбцов\n",
        "large_numbers = [col for col in col_names if df[col].mean() > 10000] # имена тех, у кого среднее > 10000\n",
        "from sklearn.preprocessing import StandardScaler\n",
        "scaler = StandardScaler()\n",
        "X_st = scaler.fit_transform(df_3[large_numbers])\n",
        "\n",
        "# Переприсвоим старым колонкам новые\n",
        "df_3[large_numbers] = X_st\n",
        "\n",
        "df_3.head()"
      ],
      "metadata": {
        "trusted": true,
        "id": "udHe3Ermg4a_",
        "colab": {
          "base_uri": "https://localhost:8080/",
          "height": 300
        },
        "outputId": "4e16dc4b-f39a-4706-c277-9d5227ae6aae"
      },
      "execution_count": null,
      "outputs": [
        {
          "output_type": "execute_result",
          "data": {
            "text/plain": [
              "   sex  Age  Married  Number_children  total_members  gained_asset  \\\n",
              "0    1   28        1                4              5     -0.233851   \n",
              "1    1   23        1                3              5     -0.233851   \n",
              "2    1   22        1                3              5     -0.233851   \n",
              "3    1   27        1                2              4      0.949678   \n",
              "4    0   59        0                4              6      2.441322   \n",
              "\n",
              "   durable_asset  save_asset  living_expenses  other_expenses  ...  \\\n",
              "0      -0.233363   -0.227442        -0.275851       -0.251273  ...   \n",
              "1      -0.233363   -0.227442        -0.275851       -0.251273  ...   \n",
              "2      -0.233363   -0.227442        -0.275851       -0.251273  ...   \n",
              "3      -0.408733    1.248573        -1.527659        0.482377  ...   \n",
              "4      -0.538818   -0.227442         2.303754        1.893300  ...   \n",
              "\n",
              "   education_level_9  education_level_10  education_level_11  \\\n",
              "0                  0                   1                   0   \n",
              "1                  0                   0                   0   \n",
              "2                  1                   0                   0   \n",
              "3                  0                   1                   0   \n",
              "4                  0                   1                   0   \n",
              "\n",
              "   education_level_12  education_level_13  education_level_14  \\\n",
              "0                   0                   0                   0   \n",
              "1                   0                   0                   0   \n",
              "2                   0                   0                   0   \n",
              "3                   0                   0                   0   \n",
              "4                   0                   0                   0   \n",
              "\n",
              "   education_level_16  education_level_17  education_level_18  \\\n",
              "0                   0                   0                   0   \n",
              "1                   0                   0                   0   \n",
              "2                   0                   0                   0   \n",
              "3                   0                   0                   0   \n",
              "4                   0                   0                   0   \n",
              "\n",
              "   education_level_19  \n",
              "0                   0  \n",
              "1                   0  \n",
              "2                   0  \n",
              "3                   0  \n",
              "4                   0  \n",
              "\n",
              "[5 rows x 292 columns]"
            ],
            "text/html": [
              "\n",
              "  <div id=\"df-0f86e2cb-ff29-4f91-a80a-b4c7c1b4e7e0\">\n",
              "    <div class=\"colab-df-container\">\n",
              "      <div>\n",
              "<style scoped>\n",
              "    .dataframe tbody tr th:only-of-type {\n",
              "        vertical-align: middle;\n",
              "    }\n",
              "\n",
              "    .dataframe tbody tr th {\n",
              "        vertical-align: top;\n",
              "    }\n",
              "\n",
              "    .dataframe thead th {\n",
              "        text-align: right;\n",
              "    }\n",
              "</style>\n",
              "<table border=\"1\" class=\"dataframe\">\n",
              "  <thead>\n",
              "    <tr style=\"text-align: right;\">\n",
              "      <th></th>\n",
              "      <th>sex</th>\n",
              "      <th>Age</th>\n",
              "      <th>Married</th>\n",
              "      <th>Number_children</th>\n",
              "      <th>total_members</th>\n",
              "      <th>gained_asset</th>\n",
              "      <th>durable_asset</th>\n",
              "      <th>save_asset</th>\n",
              "      <th>living_expenses</th>\n",
              "      <th>other_expenses</th>\n",
              "      <th>...</th>\n",
              "      <th>education_level_9</th>\n",
              "      <th>education_level_10</th>\n",
              "      <th>education_level_11</th>\n",
              "      <th>education_level_12</th>\n",
              "      <th>education_level_13</th>\n",
              "      <th>education_level_14</th>\n",
              "      <th>education_level_16</th>\n",
              "      <th>education_level_17</th>\n",
              "      <th>education_level_18</th>\n",
              "      <th>education_level_19</th>\n",
              "    </tr>\n",
              "  </thead>\n",
              "  <tbody>\n",
              "    <tr>\n",
              "      <th>0</th>\n",
              "      <td>1</td>\n",
              "      <td>28</td>\n",
              "      <td>1</td>\n",
              "      <td>4</td>\n",
              "      <td>5</td>\n",
              "      <td>-0.233851</td>\n",
              "      <td>-0.233363</td>\n",
              "      <td>-0.227442</td>\n",
              "      <td>-0.275851</td>\n",
              "      <td>-0.251273</td>\n",
              "      <td>...</td>\n",
              "      <td>0</td>\n",
              "      <td>1</td>\n",
              "      <td>0</td>\n",
              "      <td>0</td>\n",
              "      <td>0</td>\n",
              "      <td>0</td>\n",
              "      <td>0</td>\n",
              "      <td>0</td>\n",
              "      <td>0</td>\n",
              "      <td>0</td>\n",
              "    </tr>\n",
              "    <tr>\n",
              "      <th>1</th>\n",
              "      <td>1</td>\n",
              "      <td>23</td>\n",
              "      <td>1</td>\n",
              "      <td>3</td>\n",
              "      <td>5</td>\n",
              "      <td>-0.233851</td>\n",
              "      <td>-0.233363</td>\n",
              "      <td>-0.227442</td>\n",
              "      <td>-0.275851</td>\n",
              "      <td>-0.251273</td>\n",
              "      <td>...</td>\n",
              "      <td>0</td>\n",
              "      <td>0</td>\n",
              "      <td>0</td>\n",
              "      <td>0</td>\n",
              "      <td>0</td>\n",
              "      <td>0</td>\n",
              "      <td>0</td>\n",
              "      <td>0</td>\n",
              "      <td>0</td>\n",
              "      <td>0</td>\n",
              "    </tr>\n",
              "    <tr>\n",
              "      <th>2</th>\n",
              "      <td>1</td>\n",
              "      <td>22</td>\n",
              "      <td>1</td>\n",
              "      <td>3</td>\n",
              "      <td>5</td>\n",
              "      <td>-0.233851</td>\n",
              "      <td>-0.233363</td>\n",
              "      <td>-0.227442</td>\n",
              "      <td>-0.275851</td>\n",
              "      <td>-0.251273</td>\n",
              "      <td>...</td>\n",
              "      <td>1</td>\n",
              "      <td>0</td>\n",
              "      <td>0</td>\n",
              "      <td>0</td>\n",
              "      <td>0</td>\n",
              "      <td>0</td>\n",
              "      <td>0</td>\n",
              "      <td>0</td>\n",
              "      <td>0</td>\n",
              "      <td>0</td>\n",
              "    </tr>\n",
              "    <tr>\n",
              "      <th>3</th>\n",
              "      <td>1</td>\n",
              "      <td>27</td>\n",
              "      <td>1</td>\n",
              "      <td>2</td>\n",
              "      <td>4</td>\n",
              "      <td>0.949678</td>\n",
              "      <td>-0.408733</td>\n",
              "      <td>1.248573</td>\n",
              "      <td>-1.527659</td>\n",
              "      <td>0.482377</td>\n",
              "      <td>...</td>\n",
              "      <td>0</td>\n",
              "      <td>1</td>\n",
              "      <td>0</td>\n",
              "      <td>0</td>\n",
              "      <td>0</td>\n",
              "      <td>0</td>\n",
              "      <td>0</td>\n",
              "      <td>0</td>\n",
              "      <td>0</td>\n",
              "      <td>0</td>\n",
              "    </tr>\n",
              "    <tr>\n",
              "      <th>4</th>\n",
              "      <td>0</td>\n",
              "      <td>59</td>\n",
              "      <td>0</td>\n",
              "      <td>4</td>\n",
              "      <td>6</td>\n",
              "      <td>2.441322</td>\n",
              "      <td>-0.538818</td>\n",
              "      <td>-0.227442</td>\n",
              "      <td>2.303754</td>\n",
              "      <td>1.893300</td>\n",
              "      <td>...</td>\n",
              "      <td>0</td>\n",
              "      <td>1</td>\n",
              "      <td>0</td>\n",
              "      <td>0</td>\n",
              "      <td>0</td>\n",
              "      <td>0</td>\n",
              "      <td>0</td>\n",
              "      <td>0</td>\n",
              "      <td>0</td>\n",
              "      <td>0</td>\n",
              "    </tr>\n",
              "  </tbody>\n",
              "</table>\n",
              "<p>5 rows × 292 columns</p>\n",
              "</div>\n",
              "      <button class=\"colab-df-convert\" onclick=\"convertToInteractive('df-0f86e2cb-ff29-4f91-a80a-b4c7c1b4e7e0')\"\n",
              "              title=\"Convert this dataframe to an interactive table.\"\n",
              "              style=\"display:none;\">\n",
              "        \n",
              "  <svg xmlns=\"http://www.w3.org/2000/svg\" height=\"24px\"viewBox=\"0 0 24 24\"\n",
              "       width=\"24px\">\n",
              "    <path d=\"M0 0h24v24H0V0z\" fill=\"none\"/>\n",
              "    <path d=\"M18.56 5.44l.94 2.06.94-2.06 2.06-.94-2.06-.94-.94-2.06-.94 2.06-2.06.94zm-11 1L8.5 8.5l.94-2.06 2.06-.94-2.06-.94L8.5 2.5l-.94 2.06-2.06.94zm10 10l.94 2.06.94-2.06 2.06-.94-2.06-.94-.94-2.06-.94 2.06-2.06.94z\"/><path d=\"M17.41 7.96l-1.37-1.37c-.4-.4-.92-.59-1.43-.59-.52 0-1.04.2-1.43.59L10.3 9.45l-7.72 7.72c-.78.78-.78 2.05 0 2.83L4 21.41c.39.39.9.59 1.41.59.51 0 1.02-.2 1.41-.59l7.78-7.78 2.81-2.81c.8-.78.8-2.07 0-2.86zM5.41 20L4 18.59l7.72-7.72 1.47 1.35L5.41 20z\"/>\n",
              "  </svg>\n",
              "      </button>\n",
              "      \n",
              "  <style>\n",
              "    .colab-df-container {\n",
              "      display:flex;\n",
              "      flex-wrap:wrap;\n",
              "      gap: 12px;\n",
              "    }\n",
              "\n",
              "    .colab-df-convert {\n",
              "      background-color: #E8F0FE;\n",
              "      border: none;\n",
              "      border-radius: 50%;\n",
              "      cursor: pointer;\n",
              "      display: none;\n",
              "      fill: #1967D2;\n",
              "      height: 32px;\n",
              "      padding: 0 0 0 0;\n",
              "      width: 32px;\n",
              "    }\n",
              "\n",
              "    .colab-df-convert:hover {\n",
              "      background-color: #E2EBFA;\n",
              "      box-shadow: 0px 1px 2px rgba(60, 64, 67, 0.3), 0px 1px 3px 1px rgba(60, 64, 67, 0.15);\n",
              "      fill: #174EA6;\n",
              "    }\n",
              "\n",
              "    [theme=dark] .colab-df-convert {\n",
              "      background-color: #3B4455;\n",
              "      fill: #D2E3FC;\n",
              "    }\n",
              "\n",
              "    [theme=dark] .colab-df-convert:hover {\n",
              "      background-color: #434B5C;\n",
              "      box-shadow: 0px 1px 3px 1px rgba(0, 0, 0, 0.15);\n",
              "      filter: drop-shadow(0px 1px 2px rgba(0, 0, 0, 0.3));\n",
              "      fill: #FFFFFF;\n",
              "    }\n",
              "  </style>\n",
              "\n",
              "      <script>\n",
              "        const buttonEl =\n",
              "          document.querySelector('#df-0f86e2cb-ff29-4f91-a80a-b4c7c1b4e7e0 button.colab-df-convert');\n",
              "        buttonEl.style.display =\n",
              "          google.colab.kernel.accessAllowed ? 'block' : 'none';\n",
              "\n",
              "        async function convertToInteractive(key) {\n",
              "          const element = document.querySelector('#df-0f86e2cb-ff29-4f91-a80a-b4c7c1b4e7e0');\n",
              "          const dataTable =\n",
              "            await google.colab.kernel.invokeFunction('convertToInteractive',\n",
              "                                                     [key], {});\n",
              "          if (!dataTable) return;\n",
              "\n",
              "          const docLinkHtml = 'Like what you see? Visit the ' +\n",
              "            '<a target=\"_blank\" href=https://colab.research.google.com/notebooks/data_table.ipynb>data table notebook</a>'\n",
              "            + ' to learn more about interactive tables.';\n",
              "          element.innerHTML = '';\n",
              "          dataTable['output_type'] = 'display_data';\n",
              "          await google.colab.output.renderOutput(dataTable, element);\n",
              "          const docLink = document.createElement('div');\n",
              "          docLink.innerHTML = docLinkHtml;\n",
              "          element.appendChild(docLink);\n",
              "        }\n",
              "      </script>\n",
              "    </div>\n",
              "  </div>\n",
              "  "
            ]
          },
          "metadata": {},
          "execution_count": 11
        }
      ]
    },
    {
      "cell_type": "markdown",
      "source": [
        "## Построение модели и валидация"
      ],
      "metadata": {
        "id": "44J2DXXXg4a_"
      }
    },
    {
      "cell_type": "code",
      "source": [
        "X = df_3\n",
        "y = df_1['depressed']\n",
        "\n",
        "from sklearn.model_selection import train_test_split\n",
        "X_train, X_valid, y_train, y_valid = train_test_split(X, y, test_size=0.25, random_state=0)"
      ],
      "metadata": {
        "trusted": true,
        "id": "KXYyfezpg4a_"
      },
      "execution_count": null,
      "outputs": []
    },
    {
      "cell_type": "code",
      "source": [
        "log_reg = LogisticRegression(max_iter=10000)\n",
        "log_reg.fit(X_train, y_train)\n",
        "y_pred = log_reg.predict(X_valid)\n",
        "\n",
        "from sklearn.metrics import accuracy_score\n",
        "print(accuracy_score(y_valid, y_pred))"
      ],
      "metadata": {
        "trusted": true,
        "id": "JSe-H5KSg4bA",
        "colab": {
          "base_uri": "https://localhost:8080/"
        },
        "outputId": "9ae7486a-ae39-48f5-8e1c-8e4c9787cc4b"
      },
      "execution_count": null,
      "outputs": [
        {
          "output_type": "stream",
          "name": "stdout",
          "text": [
            "0.8385269121813032\n"
          ]
        }
      ]
    },
    {
      "cell_type": "markdown",
      "source": [
        "## Метрики на основе confusion matrix\n",
        "\n",
        "Разберёмся, так ли хороша наша модель, как кажется (accuracy=84.7 %). Для начала посмотрим на соотношение классов в задаче."
      ],
      "metadata": {
        "id": "3gLR_IE0g4bA"
      }
    },
    {
      "cell_type": "code",
      "source": [
        "y.value_counts(normalize=True)"
      ],
      "metadata": {
        "trusted": true,
        "id": "4nWRRZ5cg4bA",
        "colab": {
          "base_uri": "https://localhost:8080/"
        },
        "outputId": "9e81b3bc-6a4d-4230-ee07-a2baac15593a"
      },
      "execution_count": null,
      "outputs": [
        {
          "output_type": "execute_result",
          "data": {
            "text/plain": [
              "0    0.833215\n",
              "1    0.166785\n",
              "Name: depressed, dtype: float64"
            ]
          },
          "metadata": {},
          "execution_count": 14
        }
      ]
    },
    {
      "cell_type": "code",
      "source": [
        "y.value_counts(normalize=True).plot(kind='barh')\n",
        "plt.show()"
      ],
      "metadata": {
        "trusted": true,
        "id": "yWuC9RiSg4bA",
        "colab": {
          "base_uri": "https://localhost:8080/",
          "height": 265
        },
        "outputId": "0408e0b4-eb89-4d73-bdb3-a846508e8213"
      },
      "execution_count": null,
      "outputs": [
        {
          "output_type": "display_data",
          "data": {
            "text/plain": [
              "<Figure size 432x288 with 1 Axes>"
            ],
            "image/png": "[encoded data removed]"
          },
          "metadata": {
            "needs_background": "light"
          }
        }
      ]
    },
    {
      "cell_type": "markdown",
      "source": [
        "Мы видим, что объектов класса 0 в выборке значительно больше (83.3 %), чем объектов класса 1. Если бы мы решили построить константный классификатор, который предсказывает 0 ВСЕГДА, то accuracy такого классификатора была бы примерно 83.3 %. Из этого можно сделать вывод, что accuracy --- далеко не лучший выбор метрики качества для случая несбалансированных классов.\n",
        "\n",
        "Какие же есть альтернативы? Прежде всего, это матрица ошибок (confusion_matrix). В ней по строкам расположены истинные значения классов, а по столбцам --- предсказанные моделью. Их обычно обзначают так:\n",
        "$$\n",
        "\\text{Confusion_Matrix}=\n",
        "\\begin{array}{c|cc} \n",
        "& \\text{0_pred} & \\text{1_pred} \\\\ \\hline\n",
        "\\text{0_true} & TN & FP \\\\ \n",
        "\\text{1_true} & FN & TP\\end{array}\n",
        "$$\n",
        "\n",
        "Здесь:\n",
        "* $TN$ --- True Negative (правильный отрицательный) --- количество объектов класса 0, которые модель опознала верно;\n",
        "* $TP$ --- True Positive (правильный положительный) --- количество объектов класса 1, которые модель опознала верно;\n",
        "* $FP$ --- False Positive (ложный положительный) --- количество объектов класса 0, которые модель ошибочно отнесла к классу 1;\n",
        "* $FN$ --- False Negative (ложный отрицательный) --- количество объектов класса 1, которые модель ошибочно отнесла к классу 0.\n",
        "\n",
        "В идеальном случае данная матрица содержит нули вне главной диагонали. На практике же, в зависимости от задачи, мы бы хотели **минимизировать** значения $FN$ либо $FP$. К примеру, в задаче обнаружения спама нам бы не хотелось, чтобы модель помечала как спам нормальные письма, т. е. хотим как можно меньше **ложных срабатываний** (False Positive). В задаче же медицинской диагностики куда важнее не пропустить больных (т. е. нужно минимизировать **пропуски класса 1**, False Negative).\n",
        "\n",
        "Построим такую матрицу в нашей задаче обнаружения склонности к депрессии."
      ],
      "metadata": {
        "id": "ncrZ-I_8g4bA"
      }
    },
    {
      "cell_type": "code",
      "source": [
        "from sklearn.metrics import confusion_matrix, plot_confusion_matrix\n",
        "print(confusion_matrix(y_valid, y_pred))"
      ],
      "metadata": {
        "trusted": true,
        "id": "Dqvqh2bCg4bB",
        "colab": {
          "base_uri": "https://localhost:8080/"
        },
        "outputId": "82045167-8d06-4095-d027-09df9fb8f48b"
      },
      "execution_count": null,
      "outputs": [
        {
          "output_type": "stream",
          "name": "stdout",
          "text": [
            "[[295   6]\n",
            " [ 51   1]]\n"
          ]
        }
      ]
    },
    {
      "cell_type": "code",
      "source": [
        "plot_confusion_matrix(log_reg, X_valid, y_valid, values_format='5g')\n",
        "plt.show()"
      ],
      "metadata": {
        "trusted": true,
        "id": "23EXxFrUg4bB",
        "colab": {
          "base_uri": "https://localhost:8080/",
          "height": 334
        },
        "outputId": "4ec6b602-64eb-44b8-e6be-a4511183d1ed"
      },
      "execution_count": null,
      "outputs": [
        {
          "output_type": "stream",
          "name": "stderr",
          "text": [
            "/usr/local/lib/python3.7/dist-packages/sklearn/utils/deprecation.py:87: FutureWarning: Function plot_confusion_matrix is deprecated; Function `plot_confusion_matrix` is deprecated in 1.0 and will be removed in 1.2. Use one of the class methods: ConfusionMatrixDisplay.from_predictions or ConfusionMatrixDisplay.from_estimator.\n",
            "  warnings.warn(msg, category=FutureWarning)\n"
          ]
        },
        {
          "output_type": "display_data",
          "data": {
            "text/plain": [
              "<Figure size 432x288 with 2 Axes>"
            ],
            "image/png": "[encoded data removed]"
          },
          "metadata": {
            "needs_background": "light"
          }
        }
      ]
    },
    {
      "cell_type": "markdown",
      "source": [
        "Итак, наша модель определяет 4 человек как склонных к депрессии (в то время как они \"здоровы\"), а также 50 человек помечает \"здоровыми\", в то время как они склонны к депрессии. Последнее обстоятельство явно не очень хорошо. Ведь всего у нас было 52 случая склонности к депрессии, из которых модель сумела найти только два!"
      ],
      "metadata": {
        "id": "lmKurmPYg4bB"
      }
    },
    {
      "cell_type": "markdown",
      "source": [
        "### Точность, полнота и F-мера\n",
        "\n",
        "На основе матрицы ошибок можно построить следующие три метрики, каждая из которых лучше отображает результаты классификации для несбалансированных классов. Это **точность** (precision), **полнота** (recall) и **F-мера** (f1_score).\n",
        "\n",
        "$$\n",
        "\\text{Confusion_Matrix}=\n",
        "\\begin{array}{c|cc} \n",
        "& \\text{0_pred} & \\text{1_pred} \\\\ \\hline\n",
        "\\text{0_true} & TN & FP \\\\ \n",
        "\\text{1_true} & FN & TP\\end{array}\n",
        "$$\n",
        "\n",
        "* $\\text{Precision}=\\dfrac{TP}{TP+FP}$: показывает, насколько можно \"доверять\" модели, если она показала класс 1;\n",
        "* $\\text{Recall}=\\dfrac{TP}{TP+FN}$: показывает, как хорошо модель умеет находить класс 1;\n",
        "* $F_1=\\dfrac{2\\cdot \\text{Precision}\\cdot \\text{Recall}}{\\text{Precision}+\\text{Recall}}$: гармоническое среднее между точностью и полнотой.\n",
        "\n",
        "Таким образом, \n",
        "* если мы хотим минимизировать $FP$, то лучше в качестве метрики брать precision;\n",
        "* если мы хотим минимизировать $FN$, то лучше в качестве метрики брать recall;\n",
        "* если мы сомневаемся или хотим минимизировать оба значения, лучше подойдёт f1_score."
      ],
      "metadata": {
        "id": "Eo1OcTPYg4bB"
      }
    },
    {
      "cell_type": "code",
      "source": [
        "from sklearn.metrics import precision_score, recall_score, f1_score\n",
        "print('Precision:', precision_score(y_valid, y_pred))\n",
        "print('Recall:', recall_score(y_valid, y_pred))\n",
        "print('F1 score:', f1_score(y_valid, y_pred))"
      ],
      "metadata": {
        "trusted": true,
        "id": "1_PRyk8fg4bB",
        "colab": {
          "base_uri": "https://localhost:8080/"
        },
        "outputId": "93b15e1f-94eb-4977-97f4-7c4fbe1582ec"
      },
      "execution_count": null,
      "outputs": [
        {
          "output_type": "stream",
          "name": "stdout",
          "text": [
            "Precision: 0.14285714285714285\n",
            "Recall: 0.019230769230769232\n",
            "F1 score: 0.03389830508474577\n"
          ]
        }
      ]
    },
    {
      "cell_type": "markdown",
      "source": [
        "## Настройка гиперпараметров логистической регрессии по f1_score\n",
        "\n",
        "Попробуем настроить параметр C (силу регуляризации) для каждого типа регуляризации."
      ],
      "metadata": {
        "id": "1H6V2ZcKg4bB"
      }
    },
    {
      "cell_type": "markdown",
      "source": [
        "### Регуляризация L2 (по умолчанию)"
      ],
      "metadata": {
        "id": "WYlD-Uk6g4bB"
      }
    },
    {
      "cell_type": "code",
      "source": [
        "from sklearn.model_selection import GridSearchCV\n",
        "\n",
        "log_reg = LogisticRegression(solver='liblinear')\n",
        "\n",
        "C_values = {'C': np.logspace(-3, 3, 10)}\n",
        "logreg_grid = GridSearchCV(log_reg, C_values, cv=5, scoring='f1')\n",
        "logreg_grid.fit(X_train, y_train)"
      ],
      "metadata": {
        "trusted": true,
        "id": "MunK5OFbg4bC",
        "colab": {
          "base_uri": "https://localhost:8080/"
        },
        "outputId": "20ae8f66-c208-4f3d-cb90-9270eaab2c5d"
      },
      "execution_count": null,
      "outputs": [
        {
          "output_type": "execute_result",
          "data": {
            "text/plain": [
              "GridSearchCV(cv=5, estimator=LogisticRegression(solver='liblinear'),\n",
              "             param_grid={'C': array([1.00000000e-03, 4.64158883e-03, 2.15443469e-02, 1.00000000e-01,\n",
              "       4.64158883e-01, 2.15443469e+00, 1.00000000e+01, 4.64158883e+01,\n",
              "       2.15443469e+02, 1.00000000e+03])},\n",
              "             scoring='f1')"
            ]
          },
          "metadata": {},
          "execution_count": 19
        }
      ]
    },
    {
      "cell_type": "code",
      "source": [
        "print(logreg_grid.best_params_)\n",
        "print(logreg_grid.best_score_)"
      ],
      "metadata": {
        "trusted": true,
        "id": "O8PsQTmEg4bC",
        "colab": {
          "base_uri": "https://localhost:8080/"
        },
        "outputId": "6fa291f9-e6e3-4a96-cb69-57c60f5c0aba"
      },
      "execution_count": null,
      "outputs": [
        {
          "output_type": "stream",
          "name": "stdout",
          "text": [
            "{'C': 1000.0}\n",
            "0.20190932733305617\n"
          ]
        }
      ]
    },
    {
      "cell_type": "code",
      "source": [
        "results_df = pd.DataFrame(logreg_grid.cv_results_)\n",
        "plt.plot(results_df['param_C'], results_df['mean_test_score'])\n",
        "\n",
        "# Подписываем оси и график\n",
        "plt.xlabel('C')\n",
        "plt.ylabel('Test accuracy')\n",
        "plt.title('Validation curve')\n",
        "plt.show()"
      ],
      "metadata": {
        "trusted": true,
        "id": "MkypMSTug4bC",
        "colab": {
          "base_uri": "https://localhost:8080/",
          "height": 295
        },
        "outputId": "3b5a4688-fc03-4689-fd8a-e428b0c1cdc3"
      },
      "execution_count": null,
      "outputs": [
        {
          "output_type": "display_data",
          "data": {
            "text/plain": [
              "<Figure size 432x288 with 1 Axes>"
            ],
            "image/png": "[encoded data removed]"
          },
          "metadata": {
            "needs_background": "light"
          }
        }
      ]
    },
    {
      "cell_type": "markdown",
      "source": [
        "### Регуляризация L1"
      ],
      "metadata": {
        "id": "r924813Ug4bC"
      }
    },
    {
      "cell_type": "code",
      "source": [
        "log_reg = LogisticRegression(solver='liblinear', penalty='l1')\n",
        "\n",
        "C_values = {'C': np.logspace(-3, 3, 10)}\n",
        "logreg_grid = GridSearchCV(log_reg, C_values, cv=5, scoring='f1')\n",
        "logreg_grid.fit(X_train, y_train)"
      ],
      "metadata": {
        "trusted": true,
        "id": "hRGUh15Bg4bC",
        "colab": {
          "base_uri": "https://localhost:8080/"
        },
        "outputId": "9718ef76-135d-412c-808d-c2286d939b84"
      },
      "execution_count": null,
      "outputs": [
        {
          "output_type": "execute_result",
          "data": {
            "text/plain": [
              "GridSearchCV(cv=5,\n",
              "             estimator=LogisticRegression(penalty='l1', solver='liblinear'),\n",
              "             param_grid={'C': array([1.00000000e-03, 4.64158883e-03, 2.15443469e-02, 1.00000000e-01,\n",
              "       4.64158883e-01, 2.15443469e+00, 1.00000000e+01, 4.64158883e+01,\n",
              "       2.15443469e+02, 1.00000000e+03])},\n",
              "             scoring='f1')"
            ]
          },
          "metadata": {},
          "execution_count": 22
        }
      ]
    },
    {
      "cell_type": "code",
      "source": [
        "print(logreg_grid.best_params_)\n",
        "print(logreg_grid.best_score_)"
      ],
      "metadata": {
        "trusted": true,
        "id": "pLcR9wxZg4bC",
        "colab": {
          "base_uri": "https://localhost:8080/"
        },
        "outputId": "097b9293-5296-43c1-84a3-2bea475f58ef"
      },
      "execution_count": null,
      "outputs": [
        {
          "output_type": "stream",
          "name": "stdout",
          "text": [
            "{'C': 215.44346900318823}\n",
            "0.20190932733305617\n"
          ]
        }
      ]
    },
    {
      "cell_type": "code",
      "source": [
        "results_df = pd.DataFrame(logreg_grid.cv_results_)\n",
        "plt.plot(results_df['param_C'], results_df['mean_test_score'])\n",
        "\n",
        "# Подписываем оси и график\n",
        "plt.xlabel('C')\n",
        "plt.ylabel('Test accuracy')\n",
        "plt.title('Validation curve')\n",
        "plt.show()"
      ],
      "metadata": {
        "trusted": true,
        "id": "PpuOczgXg4bD",
        "colab": {
          "base_uri": "https://localhost:8080/",
          "height": 295
        },
        "outputId": "a3ca7733-8ef0-4503-f1d6-0b5305d49f8a"
      },
      "execution_count": null,
      "outputs": [
        {
          "output_type": "display_data",
          "data": {
            "text/plain": [
              "<Figure size 432x288 with 1 Axes>"
            ],
            "image/png": "[encoded data removed]"
          },
          "metadata": {
            "needs_background": "light"
          }
        }
      ]
    },
    {
      "cell_type": "code",
      "source": [
        "y_pred = logreg_grid.best_estimator_.predict(X_valid)\n",
        "print(confusion_matrix(y_valid, y_pred))\n",
        "print('F1 score valid:', f1_score(y_valid, y_pred))"
      ],
      "metadata": {
        "trusted": true,
        "id": "BVXMJqrmg4bD",
        "colab": {
          "base_uri": "https://localhost:8080/"
        },
        "outputId": "dae3c236-2159-437a-e7da-2d95883b6da6"
      },
      "execution_count": null,
      "outputs": [
        {
          "output_type": "stream",
          "name": "stdout",
          "text": [
            "[[273  28]\n",
            " [ 46   6]]\n",
            "F1 score valid: 0.13953488372093026\n"
          ]
        }
      ]
    },
    {
      "cell_type": "markdown",
      "source": [
        "Стала ли наша модель лучше? Однозначно сказать трудно :)\n",
        "\n",
        "Однако уже понятно, что модель недообучена (слабый результат на train + слабый результат на valid). Возможно, в неё стоит добавить полиномиальные фичи. Но тогда возникнет проблема: число признаков больше числа объектов. Другая возможная причина: у нас просто мало данных (всего около 1400 объектов)."
      ],
      "metadata": {
        "id": "oEzsW_slg4bD"
      }
    },
    {
      "cell_type": "markdown",
      "source": [
        "# Попытки улучшить модель"
      ],
      "metadata": {
        "id": "fgdE6HE4g4bD"
      }
    },
    {
      "cell_type": "code",
      "source": [
        "# kNN (не помог)\n",
        "from sklearn.neighbors import KNeighborsClassifier\n",
        "knn = KNeighborsClassifier(n_neighbors=5)\n",
        "knn.fit(X_train, y_train)\n",
        "\n",
        "y_pred = knn.predict(X_valid)\n",
        "print(confusion_matrix(y_valid, y_pred))\n",
        "print('F1 score valid:', f1_score(y_valid, y_pred))"
      ],
      "metadata": {
        "trusted": true,
        "id": "MCsF-FpHg4bD",
        "colab": {
          "base_uri": "https://localhost:8080/"
        },
        "outputId": "b4d7444b-18d3-4b4b-d1e9-ac4595073ed3"
      },
      "execution_count": null,
      "outputs": [
        {
          "output_type": "stream",
          "name": "stdout",
          "text": [
            "[[289  12]\n",
            " [ 50   2]]\n",
            "F1 score valid: 0.060606060606060615\n"
          ]
        }
      ]
    },
    {
      "cell_type": "code",
      "source": [
        "knn_params = {'n_neighbors': np.arange(1, 50, 2)}\n",
        "knn_grid = GridSearchCV(knn, knn_params, cv=5, scoring='f1')\n",
        "knn_grid.fit(X_train, y_train)\n",
        "\n",
        "y_pred = knn_grid.best_estimator_.predict(X_valid)\n",
        "print(confusion_matrix(y_valid, y_pred))\n",
        "print('F1 score valid:', f1_score(y_valid, y_pred))"
      ],
      "metadata": {
        "trusted": true,
        "id": "mIw6D0YPg4bD",
        "colab": {
          "base_uri": "https://localhost:8080/"
        },
        "outputId": "520ea222-939e-4786-ecde-ad2cb2a5e145"
      },
      "execution_count": null,
      "outputs": [
        {
          "output_type": "stream",
          "name": "stdout",
          "text": [
            "[[258  43]\n",
            " [ 45   7]]\n",
            "F1 score valid: 0.13725490196078433\n"
          ]
        }
      ]
    },
    {
      "cell_type": "code",
      "source": [
        "# Random Forest (не помог)\n",
        "from sklearn.ensemble import RandomForestClassifier\n",
        "rf = RandomForestClassifier(n_estimators=100)\n",
        "rf.fit(X_train, y_train)\n",
        "\n",
        "y_pred = rf.predict(X_valid)\n",
        "print(confusion_matrix(y_valid, y_pred))\n",
        "print('F1 score valid:', f1_score(y_valid, y_pred))"
      ],
      "metadata": {
        "trusted": true,
        "id": "uLEeBJ7Og4bD",
        "colab": {
          "base_uri": "https://localhost:8080/"
        },
        "outputId": "00a6cc6a-1faa-47ef-d9c9-5283a3166d99"
      },
      "execution_count": null,
      "outputs": [
        {
          "output_type": "stream",
          "name": "stdout",
          "text": [
            "[[299   2]\n",
            " [ 51   1]]\n",
            "F1 score valid: 0.03636363636363637\n"
          ]
        }
      ]
    },
    {
      "cell_type": "code",
      "source": [
        "# Искусственное добавление объектов класса 1\n",
        "\n",
        "from imblearn.over_sampling import RandomOverSampler\n",
        "\n",
        "ros = RandomOverSampler()\n",
        "X_ros, y_ros = ros.fit_resample(X_train, y_train)"
      ],
      "metadata": {
        "trusted": true,
        "id": "tqcE7ERhg4bE"
      },
      "execution_count": null,
      "outputs": []
    },
    {
      "cell_type": "code",
      "source": [
        "# Проверим баланс\n",
        "y_ros.value_counts()"
      ],
      "metadata": {
        "trusted": true,
        "id": "yBC_ZEN5g4bE",
        "colab": {
          "base_uri": "https://localhost:8080/"
        },
        "outputId": "87526742-057c-4f84-a049-82b094723488"
      },
      "execution_count": null,
      "outputs": [
        {
          "output_type": "execute_result",
          "data": {
            "text/plain": [
              "0    873\n",
              "1    873\n",
              "Name: depressed, dtype: int64"
            ]
          },
          "metadata": {},
          "execution_count": 30
        }
      ]
    },
    {
      "cell_type": "code",
      "source": [
        "# Логистическая регрессия с добавлением класса 1\n",
        "logreg_ros = LogisticRegression(solver='liblinear')\n",
        "logreg_ros.fit(X_ros, y_ros)\n",
        "y_pred = logreg_ros.predict(X_valid)\n",
        "\n",
        "print(confusion_matrix(y_valid, y_pred))\n",
        "print('F1 score valid:', f1_score(y_valid, y_pred))"
      ],
      "metadata": {
        "trusted": true,
        "id": "JANYbA_Eg4bE",
        "colab": {
          "base_uri": "https://localhost:8080/"
        },
        "outputId": "c4424807-8c44-4904-fca7-4ef9c707995a"
      },
      "execution_count": null,
      "outputs": [
        {
          "output_type": "stream",
          "name": "stdout",
          "text": [
            "[[213  88]\n",
            " [ 37  15]]\n",
            "F1 score valid: 0.19354838709677416\n"
          ]
        }
      ]
    },
    {
      "cell_type": "code",
      "source": [
        "# Подбор гиперпараметров\n",
        "logreg_params = {'C': np.logspace(-3, 3, 10), 'penalty': ['l2', 'l1']}\n",
        "logreg_grid = GridSearchCV(logreg_ros, logreg_params, cv=5, scoring='f1')\n",
        "logreg_grid.fit(X_ros, y_ros)\n",
        "\n",
        "y_pred = logreg_grid.best_estimator_.predict(X_valid)\n",
        "print(confusion_matrix(y_valid, y_pred))\n",
        "print('F1 score valid:', f1_score(y_valid, y_pred))"
      ],
      "metadata": {
        "trusted": true,
        "id": "vZzPC9l4g4bE",
        "colab": {
          "base_uri": "https://localhost:8080/"
        },
        "outputId": "3744ffdf-a954-4e7f-9b38-45fa3af489d1"
      },
      "execution_count": null,
      "outputs": [
        {
          "output_type": "stream",
          "name": "stdout",
          "text": [
            "[[202  99]\n",
            " [ 36  16]]\n",
            "F1 score valid: 0.19161676646706588\n"
          ]
        }
      ]
    },
    {
      "cell_type": "markdown",
      "source": [
        "# Задание\n",
        "\n",
        "1. Выбрать датасет https://archive-beta.ics.uci.edu/\n",
        "2. Показать результаты преподавателю и получить датасет для защиты работы. Защитить нужно на паре в деть получения датасета от преподавателя."
      ],
      "metadata": {
        "id": "0vYRgrrgy2DP"
      }
    },
    {
      "cell_type": "markdown",
      "source": [
        "Датасет Contraceptive Method Choice\n",
        "https://archive-beta.ics.uci.edu/dataset/30/contraceptive+method+choice"
      ],
      "metadata": {
        "id": "4l3ooBK8BJR1"
      }
    },
    {
      "cell_type": "markdown",
      "source": [
        "## Загрузка и препроцессинг"
      ],
      "metadata": {
        "id": "oLtt-7G5COnF"
      }
    },
    {
      "cell_type": "code",
      "source": [
        "from sklearn import datasets\n",
        "URL = \"https://archive.ics.uci.edu/ml/machine-learning-databases/cmc/\"\n",
        "name_list = [\"Wife's age\", \"Wife's education\", \"Husband's education\", \"Number of children ever born\", \"Wife's religion\", \"Wife's now working?\", \"Husband's occupation\", \"Standard-of-living index\", \"Media exposure\", \"Contraceptive method used\"]\n",
        "df1 = pd.read_csv(URL+\"cmc.data\", names=name_list)\n",
        "df1"
      ],
      "metadata": {
        "colab": {
          "base_uri": "https://localhost:8080/",
          "height": 424
        },
        "id": "sKw8NeOFCQbP",
        "outputId": "314f7241-0404-4f7e-d115-6cb4275ad916"
      },
      "execution_count": null,
      "outputs": [
        {
          "output_type": "execute_result",
          "data": {
            "text/plain": [
              "      Wife's age  Wife's education  Husband's education  \\\n",
              "0             24                 2                    3   \n",
              "1             45                 1                    3   \n",
              "2             43                 2                    3   \n",
              "3             42                 3                    2   \n",
              "4             36                 3                    3   \n",
              "...          ...               ...                  ...   \n",
              "1468          33                 4                    4   \n",
              "1469          33                 4                    4   \n",
              "1470          39                 3                    3   \n",
              "1471          33                 3                    3   \n",
              "1472          17                 3                    3   \n",
              "\n",
              "      Number of children ever born  Wife's religion  Wife's now working?  \\\n",
              "0                                3                1                    1   \n",
              "1                               10                1                    1   \n",
              "2                                7                1                    1   \n",
              "3                                9                1                    1   \n",
              "4                                8                1                    1   \n",
              "...                            ...              ...                  ...   \n",
              "1468                             2                1                    0   \n",
              "1469                             3                1                    1   \n",
              "1470                             8                1                    0   \n",
              "1471                             4                1                    0   \n",
              "1472                             1                1                    1   \n",
              "\n",
              "      Husband's occupation  Standard-of-living index  Media exposure  \\\n",
              "0                        2                         3               0   \n",
              "1                        3                         4               0   \n",
              "2                        3                         4               0   \n",
              "3                        3                         3               0   \n",
              "4                        3                         2               0   \n",
              "...                    ...                       ...             ...   \n",
              "1468                     2                         4               0   \n",
              "1469                     1                         4               0   \n",
              "1470                     1                         4               0   \n",
              "1471                     2                         2               0   \n",
              "1472                     2                         4               0   \n",
              "\n",
              "      Contraceptive method used  \n",
              "0                             1  \n",
              "1                             1  \n",
              "2                             1  \n",
              "3                             1  \n",
              "4                             1  \n",
              "...                         ...  \n",
              "1468                          3  \n",
              "1469                          3  \n",
              "1470                          3  \n",
              "1471                          3  \n",
              "1472                          3  \n",
              "\n",
              "[1473 rows x 10 columns]"
            ],
            "text/html": [
              "\n",
              "  <div id=\"df-d5d55cb6-d78c-41d1-ad92-cf5e1a056ddb\">\n",
              "    <div class=\"colab-df-container\">\n",
              "      <div>\n",
              "<style scoped>\n",
              "    .dataframe tbody tr th:only-of-type {\n",
              "        vertical-align: middle;\n",
              "    }\n",
              "\n",
              "    .dataframe tbody tr th {\n",
              "        vertical-align: top;\n",
              "    }\n",
              "\n",
              "    .dataframe thead th {\n",
              "        text-align: right;\n",
              "    }\n",
              "</style>\n",
              "<table border=\"1\" class=\"dataframe\">\n",
              "  <thead>\n",
              "    <tr style=\"text-align: right;\">\n",
              "      <th></th>\n",
              "      <th>Wife's age</th>\n",
              "      <th>Wife's education</th>\n",
              "      <th>Husband's education</th>\n",
              "      <th>Number of children ever born</th>\n",
              "      <th>Wife's religion</th>\n",
              "      <th>Wife's now working?</th>\n",
              "      <th>Husband's occupation</th>\n",
              "      <th>Standard-of-living index</th>\n",
              "      <th>Media exposure</th>\n",
              "      <th>Contraceptive method used</th>\n",
              "    </tr>\n",
              "  </thead>\n",
              "  <tbody>\n",
              "    <tr>\n",
              "      <th>0</th>\n",
              "      <td>24</td>\n",
              "      <td>2</td>\n",
              "      <td>3</td>\n",
              "      <td>3</td>\n",
              "      <td>1</td>\n",
              "      <td>1</td>\n",
              "      <td>2</td>\n",
              "      <td>3</td>\n",
              "      <td>0</td>\n",
              "      <td>1</td>\n",
              "    </tr>\n",
              "    <tr>\n",
              "      <th>1</th>\n",
              "      <td>45</td>\n",
              "      <td>1</td>\n",
              "      <td>3</td>\n",
              "      <td>10</td>\n",
              "      <td>1</td>\n",
              "      <td>1</td>\n",
              "      <td>3</td>\n",
              "      <td>4</td>\n",
              "      <td>0</td>\n",
              "      <td>1</td>\n",
              "    </tr>\n",
              "    <tr>\n",
              "      <th>2</th>\n",
              "      <td>43</td>\n",
              "      <td>2</td>\n",
              "      <td>3</td>\n",
              "      <td>7</td>\n",
              "      <td>1</td>\n",
              "      <td>1</td>\n",
              "      <td>3</td>\n",
              "      <td>4</td>\n",
              "      <td>0</td>\n",
              "      <td>1</td>\n",
              "    </tr>\n",
              "    <tr>\n",
              "      <th>3</th>\n",
              "      <td>42</td>\n",
              "      <td>3</td>\n",
              "      <td>2</td>\n",
              "      <td>9</td>\n",
              "      <td>1</td>\n",
              "      <td>1</td>\n",
              "      <td>3</td>\n",
              "      <td>3</td>\n",
              "      <td>0</td>\n",
              "      <td>1</td>\n",
              "    </tr>\n",
              "    <tr>\n",
              "      <th>4</th>\n",
              "      <td>36</td>\n",
              "      <td>3</td>\n",
              "      <td>3</td>\n",
              "      <td>8</td>\n",
              "      <td>1</td>\n",
              "      <td>1</td>\n",
              "      <td>3</td>\n",
              "      <td>2</td>\n",
              "      <td>0</td>\n",
              "      <td>1</td>\n",
              "    </tr>\n",
              "    <tr>\n",
              "      <th>...</th>\n",
              "      <td>...</td>\n",
              "      <td>...</td>\n",
              "      <td>...</td>\n",
              "      <td>...</td>\n",
              "      <td>...</td>\n",
              "      <td>...</td>\n",
              "      <td>...</td>\n",
              "      <td>...</td>\n",
              "      <td>...</td>\n",
              "      <td>...</td>\n",
              "    </tr>\n",
              "    <tr>\n",
              "      <th>1468</th>\n",
              "      <td>33</td>\n",
              "      <td>4</td>\n",
              "      <td>4</td>\n",
              "      <td>2</td>\n",
              "      <td>1</td>\n",
              "      <td>0</td>\n",
              "      <td>2</td>\n",
              "      <td>4</td>\n",
              "      <td>0</td>\n",
              "      <td>3</td>\n",
              "    </tr>\n",
              "    <tr>\n",
              "      <th>1469</th>\n",
              "      <td>33</td>\n",
              "      <td>4</td>\n",
              "      <td>4</td>\n",
              "      <td>3</td>\n",
              "      <td>1</td>\n",
              "      <td>1</td>\n",
              "      <td>1</td>\n",
              "      <td>4</td>\n",
              "      <td>0</td>\n",
              "      <td>3</td>\n",
              "    </tr>\n",
              "    <tr>\n",
              "      <th>1470</th>\n",
              "      <td>39</td>\n",
              "      <td>3</td>\n",
              "      <td>3</td>\n",
              "      <td>8</td>\n",
              "      <td>1</td>\n",
              "      <td>0</td>\n",
              "      <td>1</td>\n",
              "      <td>4</td>\n",
              "      <td>0</td>\n",
              "      <td>3</td>\n",
              "    </tr>\n",
              "    <tr>\n",
              "      <th>1471</th>\n",
              "      <td>33</td>\n",
              "      <td>3</td>\n",
              "      <td>3</td>\n",
              "      <td>4</td>\n",
              "      <td>1</td>\n",
              "      <td>0</td>\n",
              "      <td>2</td>\n",
              "      <td>2</td>\n",
              "      <td>0</td>\n",
              "      <td>3</td>\n",
              "    </tr>\n",
              "    <tr>\n",
              "      <th>1472</th>\n",
              "      <td>17</td>\n",
              "      <td>3</td>\n",
              "      <td>3</td>\n",
              "      <td>1</td>\n",
              "      <td>1</td>\n",
              "      <td>1</td>\n",
              "      <td>2</td>\n",
              "      <td>4</td>\n",
              "      <td>0</td>\n",
              "      <td>3</td>\n",
              "    </tr>\n",
              "  </tbody>\n",
              "</table>\n",
              "<p>1473 rows × 10 columns</p>\n",
              "</div>\n",
              "      <button class=\"colab-df-convert\" onclick=\"convertToInteractive('df-d5d55cb6-d78c-41d1-ad92-cf5e1a056ddb')\"\n",
              "              title=\"Convert this dataframe to an interactive table.\"\n",
              "              style=\"display:none;\">\n",
              "        \n",
              "  <svg xmlns=\"http://www.w3.org/2000/svg\" height=\"24px\"viewBox=\"0 0 24 24\"\n",
              "       width=\"24px\">\n",
              "    <path d=\"M0 0h24v24H0V0z\" fill=\"none\"/>\n",
              "    <path d=\"M18.56 5.44l.94 2.06.94-2.06 2.06-.94-2.06-.94-.94-2.06-.94 2.06-2.06.94zm-11 1L8.5 8.5l.94-2.06 2.06-.94-2.06-.94L8.5 2.5l-.94 2.06-2.06.94zm10 10l.94 2.06.94-2.06 2.06-.94-2.06-.94-.94-2.06-.94 2.06-2.06.94z\"/><path d=\"M17.41 7.96l-1.37-1.37c-.4-.4-.92-.59-1.43-.59-.52 0-1.04.2-1.43.59L10.3 9.45l-7.72 7.72c-.78.78-.78 2.05 0 2.83L4 21.41c.39.39.9.59 1.41.59.51 0 1.02-.2 1.41-.59l7.78-7.78 2.81-2.81c.8-.78.8-2.07 0-2.86zM5.41 20L4 18.59l7.72-7.72 1.47 1.35L5.41 20z\"/>\n",
              "  </svg>\n",
              "      </button>\n",
              "      \n",
              "  <style>\n",
              "    .colab-df-container {\n",
              "      display:flex;\n",
              "      flex-wrap:wrap;\n",
              "      gap: 12px;\n",
              "    }\n",
              "\n",
              "    .colab-df-convert {\n",
              "      background-color: #E8F0FE;\n",
              "      border: none;\n",
              "      border-radius: 50%;\n",
              "      cursor: pointer;\n",
              "      display: none;\n",
              "      fill: #1967D2;\n",
              "      height: 32px;\n",
              "      padding: 0 0 0 0;\n",
              "      width: 32px;\n",
              "    }\n",
              "\n",
              "    .colab-df-convert:hover {\n",
              "      background-color: #E2EBFA;\n",
              "      box-shadow: 0px 1px 2px rgba(60, 64, 67, 0.3), 0px 1px 3px 1px rgba(60, 64, 67, 0.15);\n",
              "      fill: #174EA6;\n",
              "    }\n",
              "\n",
              "    [theme=dark] .colab-df-convert {\n",
              "      background-color: #3B4455;\n",
              "      fill: #D2E3FC;\n",
              "    }\n",
              "\n",
              "    [theme=dark] .colab-df-convert:hover {\n",
              "      background-color: #434B5C;\n",
              "      box-shadow: 0px 1px 3px 1px rgba(0, 0, 0, 0.15);\n",
              "      filter: drop-shadow(0px 1px 2px rgba(0, 0, 0, 0.3));\n",
              "      fill: #FFFFFF;\n",
              "    }\n",
              "  </style>\n",
              "\n",
              "      <script>\n",
              "        const buttonEl =\n",
              "          document.querySelector('#df-d5d55cb6-d78c-41d1-ad92-cf5e1a056ddb button.colab-df-convert');\n",
              "        buttonEl.style.display =\n",
              "          google.colab.kernel.accessAllowed ? 'block' : 'none';\n",
              "\n",
              "        async function convertToInteractive(key) {\n",
              "          const element = document.querySelector('#df-d5d55cb6-d78c-41d1-ad92-cf5e1a056ddb');\n",
              "          const dataTable =\n",
              "            await google.colab.kernel.invokeFunction('convertToInteractive',\n",
              "                                                     [key], {});\n",
              "          if (!dataTable) return;\n",
              "\n",
              "          const docLinkHtml = 'Like what you see? Visit the ' +\n",
              "            '<a target=\"_blank\" href=https://colab.research.google.com/notebooks/data_table.ipynb>data table notebook</a>'\n",
              "            + ' to learn more about interactive tables.';\n",
              "          element.innerHTML = '';\n",
              "          dataTable['output_type'] = 'display_data';\n",
              "          await google.colab.output.renderOutput(dataTable, element);\n",
              "          const docLink = document.createElement('div');\n",
              "          docLink.innerHTML = docLinkHtml;\n",
              "          element.appendChild(docLink);\n",
              "        }\n",
              "      </script>\n",
              "    </div>\n",
              "  </div>\n",
              "  "
            ]
          },
          "metadata": {},
          "execution_count": 85
        }
      ]
    },
    {
      "cell_type": "code",
      "source": [
        "df1.info()"
      ],
      "metadata": {
        "id": "Qw4wremmCWYX",
        "colab": {
          "base_uri": "https://localhost:8080/"
        },
        "outputId": "8b80358b-86c4-4f0e-a21e-d3b64e1adea7"
      },
      "execution_count": null,
      "outputs": [
        {
          "output_type": "stream",
          "name": "stdout",
          "text": [
            "<class 'pandas.core.frame.DataFrame'>\n",
            "RangeIndex: 1473 entries, 0 to 1472\n",
            "Data columns (total 10 columns):\n",
            " #   Column                        Non-Null Count  Dtype\n",
            "---  ------                        --------------  -----\n",
            " 0   Wife's age                    1473 non-null   int64\n",
            " 1   Wife's education              1473 non-null   int64\n",
            " 2   Husband's education           1473 non-null   int64\n",
            " 3   Number of children ever born  1473 non-null   int64\n",
            " 4   Wife's religion               1473 non-null   int64\n",
            " 5   Wife's now working?           1473 non-null   int64\n",
            " 6   Husband's occupation          1473 non-null   int64\n",
            " 7   Standard-of-living index      1473 non-null   int64\n",
            " 8   Media exposure                1473 non-null   int64\n",
            " 9   Contraceptive method used     1473 non-null   int64\n",
            "dtypes: int64(10)\n",
            "memory usage: 115.2 KB\n"
          ]
        }
      ]
    },
    {
      "cell_type": "code",
      "source": [
        "df1.nunique() #Подсчет количества различных элементов каждого столбца датасета"
      ],
      "metadata": {
        "colab": {
          "base_uri": "https://localhost:8080/"
        },
        "id": "8TkXljnLWoYW",
        "outputId": "516bcfe8-4c9b-4419-8098-22fc2104529b"
      },
      "execution_count": null,
      "outputs": [
        {
          "output_type": "execute_result",
          "data": {
            "text/plain": [
              "Wife's age                      34\n",
              "Wife's education                 4\n",
              "Husband's education              4\n",
              "Number of children ever born    15\n",
              "Wife's religion                  2\n",
              "Wife's now working?              2\n",
              "Husband's occupation             4\n",
              "Standard-of-living index         4\n",
              "Media exposure                   2\n",
              "Contraceptive method used        3\n",
              "dtype: int64"
            ]
          },
          "metadata": {},
          "execution_count": 87
        }
      ]
    },
    {
      "cell_type": "code",
      "source": [
        "from sklearn import preprocessing \n",
        "df2 = df1.drop(['Media exposure'], axis=1)\n",
        "\n",
        "#df2 = pd.get_dummies(df2)\n",
        "#lab = preprocessing.LabelEncoder()\n",
        "#df1['class'] = lab.fit_transform(df1['class'])\n",
        "#df1.info()\n",
        "df2.head()"
      ],
      "metadata": {
        "colab": {
          "base_uri": "https://localhost:8080/",
          "height": 206
        },
        "id": "fsPWI4nwWvsG",
        "outputId": "f0bdaf4b-6bb4-442e-943f-113f11070daf"
      },
      "execution_count": null,
      "outputs": [
        {
          "output_type": "execute_result",
          "data": {
            "text/plain": [
              "   Wife's age  Wife's education  Husband's education  \\\n",
              "0          24                 2                    3   \n",
              "1          45                 1                    3   \n",
              "2          43                 2                    3   \n",
              "3          42                 3                    2   \n",
              "4          36                 3                    3   \n",
              "\n",
              "   Number of children ever born  Wife's religion  Wife's now working?  \\\n",
              "0                             3                1                    1   \n",
              "1                            10                1                    1   \n",
              "2                             7                1                    1   \n",
              "3                             9                1                    1   \n",
              "4                             8                1                    1   \n",
              "\n",
              "   Husband's occupation  Standard-of-living index  Contraceptive method used  \n",
              "0                     2                         3                          1  \n",
              "1                     3                         4                          1  \n",
              "2                     3                         4                          1  \n",
              "3                     3                         3                          1  \n",
              "4                     3                         2                          1  "
            ],
            "text/html": [
              "\n",
              "  <div id=\"df-3cb9480a-3940-4ea0-a1b7-4e7c3423df1f\">\n",
              "    <div class=\"colab-df-container\">\n",
              "      <div>\n",
              "<style scoped>\n",
              "    .dataframe tbody tr th:only-of-type {\n",
              "        vertical-align: middle;\n",
              "    }\n",
              "\n",
              "    .dataframe tbody tr th {\n",
              "        vertical-align: top;\n",
              "    }\n",
              "\n",
              "    .dataframe thead th {\n",
              "        text-align: right;\n",
              "    }\n",
              "</style>\n",
              "<table border=\"1\" class=\"dataframe\">\n",
              "  <thead>\n",
              "    <tr style=\"text-align: right;\">\n",
              "      <th></th>\n",
              "      <th>Wife's age</th>\n",
              "      <th>Wife's education</th>\n",
              "      <th>Husband's education</th>\n",
              "      <th>Number of children ever born</th>\n",
              "      <th>Wife's religion</th>\n",
              "      <th>Wife's now working?</th>\n",
              "      <th>Husband's occupation</th>\n",
              "      <th>Standard-of-living index</th>\n",
              "      <th>Contraceptive method used</th>\n",
              "    </tr>\n",
              "  </thead>\n",
              "  <tbody>\n",
              "    <tr>\n",
              "      <th>0</th>\n",
              "      <td>24</td>\n",
              "      <td>2</td>\n",
              "      <td>3</td>\n",
              "      <td>3</td>\n",
              "      <td>1</td>\n",
              "      <td>1</td>\n",
              "      <td>2</td>\n",
              "      <td>3</td>\n",
              "      <td>1</td>\n",
              "    </tr>\n",
              "    <tr>\n",
              "      <th>1</th>\n",
              "      <td>45</td>\n",
              "      <td>1</td>\n",
              "      <td>3</td>\n",
              "      <td>10</td>\n",
              "      <td>1</td>\n",
              "      <td>1</td>\n",
              "      <td>3</td>\n",
              "      <td>4</td>\n",
              "      <td>1</td>\n",
              "    </tr>\n",
              "    <tr>\n",
              "      <th>2</th>\n",
              "      <td>43</td>\n",
              "      <td>2</td>\n",
              "      <td>3</td>\n",
              "      <td>7</td>\n",
              "      <td>1</td>\n",
              "      <td>1</td>\n",
              "      <td>3</td>\n",
              "      <td>4</td>\n",
              "      <td>1</td>\n",
              "    </tr>\n",
              "    <tr>\n",
              "      <th>3</th>\n",
              "      <td>42</td>\n",
              "      <td>3</td>\n",
              "      <td>2</td>\n",
              "      <td>9</td>\n",
              "      <td>1</td>\n",
              "      <td>1</td>\n",
              "      <td>3</td>\n",
              "      <td>3</td>\n",
              "      <td>1</td>\n",
              "    </tr>\n",
              "    <tr>\n",
              "      <th>4</th>\n",
              "      <td>36</td>\n",
              "      <td>3</td>\n",
              "      <td>3</td>\n",
              "      <td>8</td>\n",
              "      <td>1</td>\n",
              "      <td>1</td>\n",
              "      <td>3</td>\n",
              "      <td>2</td>\n",
              "      <td>1</td>\n",
              "    </tr>\n",
              "  </tbody>\n",
              "</table>\n",
              "</div>\n",
              "      <button class=\"colab-df-convert\" onclick=\"convertToInteractive('df-3cb9480a-3940-4ea0-a1b7-4e7c3423df1f')\"\n",
              "              title=\"Convert this dataframe to an interactive table.\"\n",
              "              style=\"display:none;\">\n",
              "        \n",
              "  <svg xmlns=\"http://www.w3.org/2000/svg\" height=\"24px\"viewBox=\"0 0 24 24\"\n",
              "       width=\"24px\">\n",
              "    <path d=\"M0 0h24v24H0V0z\" fill=\"none\"/>\n",
              "    <path d=\"M18.56 5.44l.94 2.06.94-2.06 2.06-.94-2.06-.94-.94-2.06-.94 2.06-2.06.94zm-11 1L8.5 8.5l.94-2.06 2.06-.94-2.06-.94L8.5 2.5l-.94 2.06-2.06.94zm10 10l.94 2.06.94-2.06 2.06-.94-2.06-.94-.94-2.06-.94 2.06-2.06.94z\"/><path d=\"M17.41 7.96l-1.37-1.37c-.4-.4-.92-.59-1.43-.59-.52 0-1.04.2-1.43.59L10.3 9.45l-7.72 7.72c-.78.78-.78 2.05 0 2.83L4 21.41c.39.39.9.59 1.41.59.51 0 1.02-.2 1.41-.59l7.78-7.78 2.81-2.81c.8-.78.8-2.07 0-2.86zM5.41 20L4 18.59l7.72-7.72 1.47 1.35L5.41 20z\"/>\n",
              "  </svg>\n",
              "      </button>\n",
              "      \n",
              "  <style>\n",
              "    .colab-df-container {\n",
              "      display:flex;\n",
              "      flex-wrap:wrap;\n",
              "      gap: 12px;\n",
              "    }\n",
              "\n",
              "    .colab-df-convert {\n",
              "      background-color: #E8F0FE;\n",
              "      border: none;\n",
              "      border-radius: 50%;\n",
              "      cursor: pointer;\n",
              "      display: none;\n",
              "      fill: #1967D2;\n",
              "      height: 32px;\n",
              "      padding: 0 0 0 0;\n",
              "      width: 32px;\n",
              "    }\n",
              "\n",
              "    .colab-df-convert:hover {\n",
              "      background-color: #E2EBFA;\n",
              "      box-shadow: 0px 1px 2px rgba(60, 64, 67, 0.3), 0px 1px 3px 1px rgba(60, 64, 67, 0.15);\n",
              "      fill: #174EA6;\n",
              "    }\n",
              "\n",
              "    [theme=dark] .colab-df-convert {\n",
              "      background-color: #3B4455;\n",
              "      fill: #D2E3FC;\n",
              "    }\n",
              "\n",
              "    [theme=dark] .colab-df-convert:hover {\n",
              "      background-color: #434B5C;\n",
              "      box-shadow: 0px 1px 3px 1px rgba(0, 0, 0, 0.15);\n",
              "      filter: drop-shadow(0px 1px 2px rgba(0, 0, 0, 0.3));\n",
              "      fill: #FFFFFF;\n",
              "    }\n",
              "  </style>\n",
              "\n",
              "      <script>\n",
              "        const buttonEl =\n",
              "          document.querySelector('#df-3cb9480a-3940-4ea0-a1b7-4e7c3423df1f button.colab-df-convert');\n",
              "        buttonEl.style.display =\n",
              "          google.colab.kernel.accessAllowed ? 'block' : 'none';\n",
              "\n",
              "        async function convertToInteractive(key) {\n",
              "          const element = document.querySelector('#df-3cb9480a-3940-4ea0-a1b7-4e7c3423df1f');\n",
              "          const dataTable =\n",
              "            await google.colab.kernel.invokeFunction('convertToInteractive',\n",
              "                                                     [key], {});\n",
              "          if (!dataTable) return;\n",
              "\n",
              "          const docLinkHtml = 'Like what you see? Visit the ' +\n",
              "            '<a target=\"_blank\" href=https://colab.research.google.com/notebooks/data_table.ipynb>data table notebook</a>'\n",
              "            + ' to learn more about interactive tables.';\n",
              "          element.innerHTML = '';\n",
              "          dataTable['output_type'] = 'display_data';\n",
              "          await google.colab.output.renderOutput(dataTable, element);\n",
              "          const docLink = document.createElement('div');\n",
              "          docLink.innerHTML = docLinkHtml;\n",
              "          element.appendChild(docLink);\n",
              "        }\n",
              "      </script>\n",
              "    </div>\n",
              "  </div>\n",
              "  "
            ]
          },
          "metadata": {},
          "execution_count": 88
        }
      ]
    },
    {
      "cell_type": "markdown",
      "source": [
        "## Построение модели и валидация"
      ],
      "metadata": {
        "id": "ehdpTlLoW91_"
      }
    },
    {
      "cell_type": "code",
      "source": [
        "from sklearn.model_selection import train_test_split \n",
        "X = df2 \n",
        "y = df1['Media exposure'] \n",
        "X_train, X_valid, y_train, y_valid = train_test_split(X, y, test_size = 0.25, random_state=0)"
      ],
      "metadata": {
        "id": "GCllTqA5W_K1"
      },
      "execution_count": null,
      "outputs": []
    },
    {
      "cell_type": "code",
      "source": [
        "l_r1 = LogisticRegression(max_iter=10000) \n",
        "l_r1.fit(X_train, y_train) \n",
        "y_pred = l_r1.predict(X_valid) \n",
        "from sklearn.metrics import accuracy_score \n",
        "print(accuracy_score(y_valid, y_pred))"
      ],
      "metadata": {
        "colab": {
          "base_uri": "https://localhost:8080/"
        },
        "id": "oiLrnGu1XDCu",
        "outputId": "321d715d-670b-4abb-b40b-701c1a6c23a2"
      },
      "execution_count": null,
      "outputs": [
        {
          "output_type": "stream",
          "name": "stdout",
          "text": [
            "0.9186991869918699\n"
          ]
        }
      ]
    },
    {
      "cell_type": "markdown",
      "source": [
        "## Метрики на основе confusion matrix\n",
        "\n",
        "Разберёмся, так ли хороша наша модель, как кажется (accuracy=91.8 %). Для начала посмотрим на соотношение классов в задаче."
      ],
      "metadata": {
        "id": "EdSWvRioXJIN"
      }
    },
    {
      "cell_type": "code",
      "source": [
        "y.value_counts(normalize=True)"
      ],
      "metadata": {
        "colab": {
          "base_uri": "https://localhost:8080/"
        },
        "id": "tcRrdpEiXO7t",
        "outputId": "f6da9849-66e1-451a-f9f5-62baf1e48d5d"
      },
      "execution_count": null,
      "outputs": [
        {
          "output_type": "execute_result",
          "data": {
            "text/plain": [
              "0    0.926001\n",
              "1    0.073999\n",
              "Name: Media exposure, dtype: float64"
            ]
          },
          "metadata": {},
          "execution_count": 91
        }
      ]
    },
    {
      "cell_type": "code",
      "source": [
        "y.value_counts(normalize=True).plot(kind='barh') \n",
        "plt.show()"
      ],
      "metadata": {
        "colab": {
          "base_uri": "https://localhost:8080/",
          "height": 265
        },
        "id": "p-mlTqZQXgb2",
        "outputId": "ee81bf84-e21b-4118-8fc1-71a130fb9792"
      },
      "execution_count": null,
      "outputs": [
        {
          "output_type": "display_data",
          "data": {
            "text/plain": [
              "<Figure size 432x288 with 1 Axes>"
            ],
            "image/png": "[encoded data removed]"
          },
          "metadata": {
            "needs_background": "light"
          }
        }
      ]
    },
    {
      "cell_type": "markdown",
      "source": [
        "Мы видим, что объектов класса 0 в выборке значительно больше (92.6 %), чем объектов класса 1. Если бы мы решили построить константный классификатор, который предсказывает 0 ВСЕГДА, то accuracy такого классификатора была бы примерно 92.6 %. Из этого можно сделать вывод, что accuracy --- далеко не лучший выбор метрики качества для случая несбалансированных классов.\n",
        "\n",
        "Какие же есть альтернативы? Прежде всего, это матрица ошибок (confusion_matrix). В ней по строкам расположены истинные значения классов, а по столбцам --- предсказанные моделью. Их обычно обзначают так:\n",
        "$$\n",
        "\\text{Confusion_Matrix}=\n",
        "\\begin{array}{c|cc} \n",
        "& \\text{0_pred} & \\text{1_pred} \\\\ \\hline\n",
        "\\text{0_true} & TN & FP \\\\ \n",
        "\\text{1_true} & FN & TP\\end{array}\n",
        "$$\n",
        "\n",
        "Здесь:\n",
        "* $TN$ --- True Negative (правильный отрицательный) --- количество объектов класса 0, которые модель опознала верно;\n",
        "* $TP$ --- True Positive (правильный положительный) --- количество объектов класса 1, которые модель опознала верно;\n",
        "* $FP$ --- False Positive (ложный положительный) --- количество объектов класса 0, которые модель ошибочно отнесла к классу 1;\n",
        "* $FN$ --- False Negative (ложный отрицательный) --- количество объектов класса 1, которые модель ошибочно отнесла к классу 0.\n",
        "\n",
        "В идеальном случае данная матрица содержит нули вне главной диагонали. На практике же, в зависимости от задачи, мы бы хотели **минимизировать** значения $FN$ либо $FP$. К примеру, в задаче обнаружения спама нам бы не хотелось, чтобы модель помечала как спам нормальные письма, т. е. хотим как можно меньше **ложных срабатываний** (False Positive). В задаче же медицинской диагностики куда важнее не пропустить больных (т. е. нужно минимизировать **пропуски класса 1**, False Negative).\n",
        "\n",
        "Построим такую матрицу в нашей задаче обнаружения склонности к депрессии."
      ],
      "metadata": {
        "id": "OYJKtB8wXjDn"
      }
    },
    {
      "cell_type": "code",
      "source": [
        "from sklearn.metrics import confusion_matrix, plot_confusion_matrix \n",
        "print(confusion_matrix(y_valid, y_pred))"
      ],
      "metadata": {
        "colab": {
          "base_uri": "https://localhost:8080/"
        },
        "id": "3VRPPPCZXrB-",
        "outputId": "e083cfe0-443c-4be5-f4c7-3a39456bcd26"
      },
      "execution_count": null,
      "outputs": [
        {
          "output_type": "stream",
          "name": "stdout",
          "text": [
            "[[336   3]\n",
            " [ 27   3]]\n"
          ]
        }
      ]
    },
    {
      "cell_type": "code",
      "source": [
        "plot_confusion_matrix(l_r1, X_valid, y_valid, values_format='5g') \n",
        "plt.show()"
      ],
      "metadata": {
        "colab": {
          "base_uri": "https://localhost:8080/",
          "height": 334
        },
        "id": "tBz036cYXvYW",
        "outputId": "9dd15e84-f42b-45e9-b3d0-c25f1b00ea1d"
      },
      "execution_count": null,
      "outputs": [
        {
          "output_type": "stream",
          "name": "stderr",
          "text": [
            "/usr/local/lib/python3.7/dist-packages/sklearn/utils/deprecation.py:87: FutureWarning: Function plot_confusion_matrix is deprecated; Function `plot_confusion_matrix` is deprecated in 1.0 and will be removed in 1.2. Use one of the class methods: ConfusionMatrixDisplay.from_predictions or ConfusionMatrixDisplay.from_estimator.\n",
            "  warnings.warn(msg, category=FutureWarning)\n"
          ]
        },
        {
          "output_type": "display_data",
          "data": {
            "text/plain": [
              "<Figure size 432x288 with 2 Axes>"
            ],
            "image/png": "[encoded data removed]"
          },
          "metadata": {
            "needs_background": "light"
          }
        }
      ]
    },
    {
      "cell_type": "markdown",
      "source": [
        "### Точность, полнота и F-мера\n",
        "\n",
        "На основе матрицы ошибок можно построить следующие три метрики, каждая из которых лучше отображает результаты классификации для несбалансированных классов. Это **точность** (precision), **полнота** (recall) и **F-мера** (f1_score).\n",
        "\n",
        "$$\n",
        "\\text{Confusion_Matrix}=\n",
        "\\begin{array}{c|cc} \n",
        "& \\text{0_pred} & \\text{1_pred} \\\\ \\hline\n",
        "\\text{0_true} & TN & FP \\\\ \n",
        "\\text{1_true} & FN & TP\\end{array}\n",
        "$$\n",
        "\n",
        "* $\\text{Precision}=\\dfrac{TP}{TP+FP}$: показывает, насколько можно \"доверять\" модели, если она показала класс 1;\n",
        "* $\\text{Recall}=\\dfrac{TP}{TP+FN}$: показывает, как хорошо модель умеет находить класс 1;\n",
        "* $F_1=\\dfrac{2\\cdot \\text{Precision}\\cdot \\text{Recall}}{\\text{Precision}+\\text{Recall}}$: гармоническое среднее между точностью и полнотой.\n",
        "\n",
        "Таким образом, \n",
        "* если мы хотим минимизировать $FP$, то лучше в качестве метрики брать precision;\n",
        "* если мы хотим минимизировать $FN$, то лучше в качестве метрики брать recall;\n",
        "* если мы сомневаемся или хотим минимизировать оба значения, лучше подойдёт f1_score."
      ],
      "metadata": {
        "id": "-wGTnlD1Y7_-"
      }
    },
    {
      "cell_type": "code",
      "source": [
        "from sklearn.metrics import precision_score, recall_score, f1_score \n",
        "print('Precision:', precision_score(y_valid, y_pred, average='weighted')) \n",
        "print('Recall:', recall_score(y_valid, y_pred, average='weighted')) \n",
        "print('F1 score:', f1_score(y_valid, y_pred, average='weighted'))"
      ],
      "metadata": {
        "colab": {
          "base_uri": "https://localhost:8080/"
        },
        "id": "YvjH2bwMY8x2",
        "outputId": "7965555c-00b1-40c9-bfcc-9129e8b5be5c"
      },
      "execution_count": null,
      "outputs": [
        {
          "output_type": "stream",
          "name": "stdout",
          "text": [
            "Precision: 0.8910165961163744\n",
            "Recall: 0.9186991869918699\n",
            "F1 score: 0.8929886734764785\n"
          ]
        }
      ]
    },
    {
      "cell_type": "markdown",
      "source": [
        "## Настройка гиперпараметров логистической регрессии по f1_score\n",
        "\n",
        "Попробуем настроить параметр C (силу регуляризации) для каждого типа регуляризации."
      ],
      "metadata": {
        "id": "XneyM9FzZELt"
      }
    },
    {
      "cell_type": "markdown",
      "source": [
        "### Регуляризация L2 (по умолчанию)"
      ],
      "metadata": {
        "id": "fNMcNO8rZKKu"
      }
    },
    {
      "cell_type": "code",
      "source": [
        "from sklearn.metrics import precision_score, recall_score, f1_score \n",
        "print('Precision:', precision_score(y_valid, y_pred, average='weighted')) \n",
        "print('Recall:', recall_score(y_valid, y_pred, average='weighted')) \n",
        "print('F1 score:', f1_score(y_valid, y_pred, average='weighted'))"
      ],
      "metadata": {
        "colab": {
          "base_uri": "https://localhost:8080/"
        },
        "id": "UiXsFgQLZQHm",
        "outputId": "ff04503d-ebef-4e2a-bbd9-fc7e6d5180da"
      },
      "execution_count": null,
      "outputs": [
        {
          "output_type": "stream",
          "name": "stdout",
          "text": [
            "Precision: 0.8910165961163744\n",
            "Recall: 0.9186991869918699\n",
            "F1 score: 0.8929886734764785\n"
          ]
        }
      ]
    },
    {
      "cell_type": "code",
      "source": [
        "from sklearn.model_selection import GridSearchCV \n",
        " \n",
        "log_reg = LogisticRegression(solver='saga', max_iter = 10000) \n",
        " \n",
        "C_values = {'C': np.logspace(-3, 3, 10)} \n",
        "logreg_grid = GridSearchCV(log_reg, C_values, cv=5, scoring='f1_weighted') \n",
        "logreg_grid.fit(X_train, y_train)"
      ],
      "metadata": {
        "colab": {
          "base_uri": "https://localhost:8080/"
        },
        "id": "qsV7jD8tZTDe",
        "outputId": "1e21033d-6aad-4573-805b-2710987e1d8c"
      },
      "execution_count": null,
      "outputs": [
        {
          "output_type": "execute_result",
          "data": {
            "text/plain": [
              "GridSearchCV(cv=5, estimator=LogisticRegression(max_iter=10000, solver='saga'),\n",
              "             param_grid={'C': array([1.00000000e-03, 4.64158883e-03, 2.15443469e-02, 1.00000000e-01,\n",
              "       4.64158883e-01, 2.15443469e+00, 1.00000000e+01, 4.64158883e+01,\n",
              "       2.15443469e+02, 1.00000000e+03])},\n",
              "             scoring='f1_weighted')"
            ]
          },
          "metadata": {},
          "execution_count": 97
        }
      ]
    },
    {
      "cell_type": "code",
      "source": [
        "print(logreg_grid.best_params_) \n",
        "print(logreg_grid.best_score_)"
      ],
      "metadata": {
        "colab": {
          "base_uri": "https://localhost:8080/"
        },
        "id": "fr7ZxjaXZTaI",
        "outputId": "1f515e3b-cf4d-4a55-ff5b-f9c3a8a38868"
      },
      "execution_count": null,
      "outputs": [
        {
          "output_type": "stream",
          "name": "stdout",
          "text": [
            "{'C': 2.154434690031882}\n",
            "0.9126038804317359\n"
          ]
        }
      ]
    },
    {
      "cell_type": "code",
      "source": [
        "results_df = pd.DataFrame(logreg_grid.cv_results_) \n",
        "plt.plot(results_df['param_C'], results_df['mean_test_score']) \n",
        " \n",
        "# Подписываем оси и график \n",
        "plt.xlabel('C') \n",
        "plt.ylabel('Test accuracy') \n",
        "plt.title('Validation curve') \n",
        "plt.show()"
      ],
      "metadata": {
        "colab": {
          "base_uri": "https://localhost:8080/",
          "height": 295
        },
        "id": "MhxbxY6EaN-X",
        "outputId": "2227ef10-8438-43b4-b400-051edb79f236"
      },
      "execution_count": null,
      "outputs": [
        {
          "output_type": "display_data",
          "data": {
            "text/plain": [
              "<Figure size 432x288 with 1 Axes>"
            ],
            "image/png": "[encoded data removed]"
          },
          "metadata": {
            "needs_background": "light"
          }
        }
      ]
    },
    {
      "cell_type": "markdown",
      "source": [
        "### Регуляризация L1"
      ],
      "metadata": {
        "id": "DQRYzdATaRQh"
      }
    },
    {
      "cell_type": "code",
      "source": [
        "log_reg = LogisticRegression(solver='saga', penalty='l1', max_iter=10000) \n",
        " \n",
        "C_values = {'C': np.logspace(-3, 3, 10)} \n",
        "logreg_grid = GridSearchCV(log_reg, C_values, cv=5, scoring='f1_weighted') \n",
        "logreg_grid.fit(X_train, y_train)"
      ],
      "metadata": {
        "colab": {
          "base_uri": "https://localhost:8080/"
        },
        "id": "FmCY0bujaXf4",
        "outputId": "e7f5d21d-ab99-4e60-b911-b7e40ae0235a"
      },
      "execution_count": null,
      "outputs": [
        {
          "output_type": "execute_result",
          "data": {
            "text/plain": [
              "GridSearchCV(cv=5,\n",
              "             estimator=LogisticRegression(max_iter=10000, penalty='l1',\n",
              "                                          solver='saga'),\n",
              "             param_grid={'C': array([1.00000000e-03, 4.64158883e-03, 2.15443469e-02, 1.00000000e-01,\n",
              "       4.64158883e-01, 2.15443469e+00, 1.00000000e+01, 4.64158883e+01,\n",
              "       2.15443469e+02, 1.00000000e+03])},\n",
              "             scoring='f1_weighted')"
            ]
          },
          "metadata": {},
          "execution_count": 100
        }
      ]
    },
    {
      "cell_type": "code",
      "source": [
        "print(logreg_grid.best_params_) \n",
        "print(logreg_grid.best_score_)"
      ],
      "metadata": {
        "colab": {
          "base_uri": "https://localhost:8080/"
        },
        "id": "95Vgnt4haagQ",
        "outputId": "303022b5-9a5f-43f9-b22d-16d8c224dc72"
      },
      "execution_count": null,
      "outputs": [
        {
          "output_type": "stream",
          "name": "stdout",
          "text": [
            "{'C': 2.154434690031882}\n",
            "0.9126038804317359\n"
          ]
        }
      ]
    },
    {
      "cell_type": "code",
      "source": [
        "results_df = pd.DataFrame(logreg_grid.cv_results_) \n",
        "plt.plot(results_df['param_C'], results_df['mean_test_score']) \n",
        " \n",
        "# Подписываем оси и график \n",
        "plt.xlabel('C') \n",
        "plt.ylabel('Test accuracy') \n",
        "plt.title('Validation curve') \n",
        "plt.show()"
      ],
      "metadata": {
        "colab": {
          "base_uri": "https://localhost:8080/",
          "height": 295
        },
        "id": "Qn7u0kyPa6sH",
        "outputId": "74970585-91aa-43b3-ef1c-1a0a8e3e3f51"
      },
      "execution_count": null,
      "outputs": [
        {
          "output_type": "display_data",
          "data": {
            "text/plain": [
              "<Figure size 432x288 with 1 Axes>"
            ],
            "image/png": "[encoded data removed]"
          },
          "metadata": {
            "needs_background": "light"
          }
        }
      ]
    },
    {
      "cell_type": "code",
      "source": [
        "y_pred = logreg_grid.best_estimator_.predict(X_valid) \n",
        "print(confusion_matrix(y_valid, y_pred)) \n",
        "print('F1 score valid:', f1_score(y_valid, y_pred, average='weighted'))"
      ],
      "metadata": {
        "colab": {
          "base_uri": "https://localhost:8080/"
        },
        "id": "9A-TtZXKa9aW",
        "outputId": "25c3e337-e2ff-48e9-d11e-8d0b66f984cc"
      },
      "execution_count": null,
      "outputs": [
        {
          "output_type": "stream",
          "name": "stdout",
          "text": [
            "[[337   2]\n",
            " [ 28   2]]\n",
            "F1 score valid: 0.8891148754401981\n"
          ]
        }
      ]
    },
    {
      "cell_type": "markdown",
      "source": [
        "# Попытки улучшить модель"
      ],
      "metadata": {
        "id": "O1vh4irMbAUO"
      }
    },
    {
      "cell_type": "code",
      "source": [
        "# kNN (не помог) \n",
        "from sklearn.neighbors import KNeighborsClassifier \n",
        "knn = KNeighborsClassifier(n_neighbors=5) \n",
        "knn.fit(X_train, y_train) \n",
        " \n",
        "y_pred = knn.predict(X_valid) \n",
        "print(confusion_matrix(y_valid, y_pred)) \n",
        "print('F1 score valid:', f1_score(y_valid, y_pred, average='weighted'))"
      ],
      "metadata": {
        "colab": {
          "base_uri": "https://localhost:8080/"
        },
        "id": "CfXosTeabYB3",
        "outputId": "1af4a918-8e85-4987-c1bb-f1a6e8256b19"
      },
      "execution_count": null,
      "outputs": [
        {
          "output_type": "stream",
          "name": "stdout",
          "text": [
            "[[333   6]\n",
            " [ 27   3]]\n",
            "F1 score valid: 0.8878349397558023\n"
          ]
        }
      ]
    },
    {
      "cell_type": "code",
      "source": [
        "knn_params = {'n_neighbors': np.arange(1, 50, 2)} \n",
        "knn_grid = GridSearchCV(knn, knn_params, cv=5, scoring='f1_weighted') \n",
        "knn_grid.fit(X_train, y_train) \n",
        " \n",
        "y_pred = knn_grid.best_estimator_.predict(X_valid) \n",
        "print(confusion_matrix(y_valid, y_pred)) \n",
        "print('F1 score valid:', f1_score(y_valid, y_pred, average='weighted'))"
      ],
      "metadata": {
        "colab": {
          "base_uri": "https://localhost:8080/"
        },
        "id": "zLvTxU2zbdMn",
        "outputId": "52c494d5-0069-4a1f-bf6d-efa8ce4840bc"
      },
      "execution_count": null,
      "outputs": [
        {
          "output_type": "stream",
          "name": "stdout",
          "text": [
            "[[331   8]\n",
            " [ 26   4]]\n",
            "F1 score valid: 0.8893060728636845\n"
          ]
        }
      ]
    },
    {
      "cell_type": "code",
      "source": [
        "# Random Forest (не помог) \n",
        "from sklearn.ensemble import RandomForestClassifier \n",
        "rf = RandomForestClassifier(n_estimators=100) \n",
        "rf.fit(X_train, y_train) \n",
        " \n",
        "y_pred = rf.predict(X_valid) \n",
        "print(confusion_matrix(y_valid, y_pred)) \n",
        "print('F1 score valid:', f1_score(y_valid, y_pred, average='weighted'))"
      ],
      "metadata": {
        "colab": {
          "base_uri": "https://localhost:8080/"
        },
        "id": "7H90-ofdbdPZ",
        "outputId": "9c915578-6f52-4894-b8ab-5d6364daccef"
      },
      "execution_count": null,
      "outputs": [
        {
          "output_type": "stream",
          "name": "stdout",
          "text": [
            "[[333   6]\n",
            " [ 27   3]]\n",
            "F1 score valid: 0.8878349397558023\n"
          ]
        }
      ]
    },
    {
      "cell_type": "code",
      "source": [
        "# Искусственное добавление объектов класса 1 \n",
        " \n",
        "from imblearn.over_sampling import RandomOverSampler \n",
        " \n",
        "ros = RandomOverSampler() \n",
        "X_ros, y_ros = ros.fit_resample(X_train, y_train)"
      ],
      "metadata": {
        "id": "Sgs6sQV_bdSE"
      },
      "execution_count": null,
      "outputs": []
    },
    {
      "cell_type": "code",
      "source": [
        "# Проверим баланс \n",
        "y_ros.value_counts()"
      ],
      "metadata": {
        "colab": {
          "base_uri": "https://localhost:8080/"
        },
        "id": "I17F28vObk-4",
        "outputId": "d2f8787a-eff7-45fd-eea7-ec5ffe9e1687"
      },
      "execution_count": null,
      "outputs": [
        {
          "output_type": "execute_result",
          "data": {
            "text/plain": [
              "0    1025\n",
              "1    1025\n",
              "Name: Media exposure, dtype: int64"
            ]
          },
          "metadata": {},
          "execution_count": 108
        }
      ]
    },
    {
      "cell_type": "code",
      "source": [
        "# Логистическая регрессия с добавлением класса 1 \n",
        "logreg_ros = LogisticRegression(solver='liblinear') \n",
        "logreg_ros.fit(X_ros, y_ros) \n",
        "y_pred = logreg_ros.predict(X_valid) \n",
        " \n",
        "print(confusion_matrix(y_valid, y_pred)) \n",
        "print('F1 score valid:', f1_score(y_valid, y_pred, average='weighted'))"
      ],
      "metadata": {
        "colab": {
          "base_uri": "https://localhost:8080/"
        },
        "id": "4xtYoEfLboQX",
        "outputId": "9a5826fe-bb15-4e06-ec92-2b2c496afc05"
      },
      "execution_count": null,
      "outputs": [
        {
          "output_type": "stream",
          "name": "stdout",
          "text": [
            "[[272  67]\n",
            " [  8  22]]\n",
            "F1 score valid: 0.8374474893389326\n"
          ]
        }
      ]
    },
    {
      "cell_type": "code",
      "source": [
        "# Подбор гиперпараметров \n",
        "logreg_params = {'C': np.logspace(-3, 3, 10), 'penalty': ['l2', 'l1']} \n",
        "logreg_grid = GridSearchCV(logreg_ros, logreg_params, cv=5, scoring='f1_weighted') \n",
        "logreg_grid.fit(X_ros, y_ros) \n",
        " \n",
        "y_pred = logreg_grid.best_estimator_.predict(X_valid) \n",
        "print(confusion_matrix(y_valid, y_pred)) \n",
        "print('F1 score valid:', f1_score(y_valid, y_pred, average='weighted'))"
      ],
      "metadata": {
        "colab": {
          "base_uri": "https://localhost:8080/"
        },
        "id": "52DLk4tJbquv",
        "outputId": "3cd1f9a9-dea1-463f-cae5-ba5003458b28"
      },
      "execution_count": null,
      "outputs": [
        {
          "output_type": "stream",
          "name": "stdout",
          "text": [
            "[[268  71]\n",
            " [  8  22]]\n",
            "F1 score valid: 0.8297706391698065\n"
          ]
        }
      ]
    },
    {
      "cell_type": "markdown",
      "source": [
        "# Ссылки:\n",
        "1. https://www.kaggle.com/code/emstrakhov/ml-logistic-regression/notebook\n",
        "2. https://archive-beta.ics.uci.edu/\n"
      ],
      "metadata": {
        "id": "GgI90OGKhopk"
      }
    }
  ]
}